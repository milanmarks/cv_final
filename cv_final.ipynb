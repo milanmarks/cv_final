{
  "nbformat": 4,
  "nbformat_minor": 0,
  "metadata": {
    "orig_nbformat": 2,
    "kernelspec": {
      "name": "python385jvsc74a57bd0a8f61be024eba58adef938c9aa1e29e02cb3dece83a5348b1a2dafd16a070453",
      "display_name": "Python 3.8.5 64-bit ('base': conda)"
    },
    "colab": {
      "name": "Copy of Copy of cv_final.ipynb",
      "provenance": [],
      "collapsed_sections": [
        "ZrCehLLApcA4",
        "SOuDhA7UpcA6",
        "FZjeZYYppcA9"
      ]
    },
    "language_info": {
      "name": "python",
      "version": "3.8.5"
    },
    "accelerator": "GPU",
    "widgets": {
      "application/vnd.jupyter.widget-state+json": {
        "b2c8082711c144068bf8c0fa0e58127c": {
          "model_module": "@jupyter-widgets/controls",
          "model_name": "HBoxModel",
          "state": {
            "_view_name": "HBoxView",
            "_dom_classes": [],
            "_model_name": "HBoxModel",
            "_view_module": "@jupyter-widgets/controls",
            "_model_module_version": "1.5.0",
            "_view_count": null,
            "_view_module_version": "1.5.0",
            "box_style": "",
            "layout": "IPY_MODEL_2eca9f5c417446a3905b4ea931c525cd",
            "_model_module": "@jupyter-widgets/controls",
            "children": [
              "IPY_MODEL_e5d1152e29e94522940645c8cf87ad85",
              "IPY_MODEL_a42c61734a6c41b0a0c6dc24e666fa4d"
            ]
          }
        },
        "2eca9f5c417446a3905b4ea931c525cd": {
          "model_module": "@jupyter-widgets/base",
          "model_name": "LayoutModel",
          "state": {
            "_view_name": "LayoutView",
            "grid_template_rows": null,
            "right": null,
            "justify_content": null,
            "_view_module": "@jupyter-widgets/base",
            "overflow": null,
            "_model_module_version": "1.2.0",
            "_view_count": null,
            "flex_flow": null,
            "width": null,
            "min_width": null,
            "border": null,
            "align_items": null,
            "bottom": null,
            "_model_module": "@jupyter-widgets/base",
            "top": null,
            "grid_column": null,
            "overflow_y": null,
            "overflow_x": null,
            "grid_auto_flow": null,
            "grid_area": null,
            "grid_template_columns": null,
            "flex": null,
            "_model_name": "LayoutModel",
            "justify_items": null,
            "grid_row": null,
            "max_height": null,
            "align_content": null,
            "visibility": null,
            "align_self": null,
            "height": null,
            "min_height": null,
            "padding": null,
            "grid_auto_rows": null,
            "grid_gap": null,
            "max_width": null,
            "order": null,
            "_view_module_version": "1.2.0",
            "grid_template_areas": null,
            "object_position": null,
            "object_fit": null,
            "grid_auto_columns": null,
            "margin": null,
            "display": null,
            "left": null
          }
        },
        "e5d1152e29e94522940645c8cf87ad85": {
          "model_module": "@jupyter-widgets/controls",
          "model_name": "FloatProgressModel",
          "state": {
            "_view_name": "ProgressView",
            "style": "IPY_MODEL_3e8fce9e5d944be6a64657b7419c7162",
            "_dom_classes": [],
            "description": "",
            "_model_name": "FloatProgressModel",
            "bar_style": "success",
            "max": 170498071,
            "_view_module": "@jupyter-widgets/controls",
            "_model_module_version": "1.5.0",
            "value": 170498071,
            "_view_count": null,
            "_view_module_version": "1.5.0",
            "orientation": "horizontal",
            "min": 0,
            "description_tooltip": null,
            "_model_module": "@jupyter-widgets/controls",
            "layout": "IPY_MODEL_8974f181597843a89bc28f1856843d53"
          }
        },
        "a42c61734a6c41b0a0c6dc24e666fa4d": {
          "model_module": "@jupyter-widgets/controls",
          "model_name": "HTMLModel",
          "state": {
            "_view_name": "HTMLView",
            "style": "IPY_MODEL_92d28e0fd3b142fba6084bde623c41e4",
            "_dom_classes": [],
            "description": "",
            "_model_name": "HTMLModel",
            "placeholder": "​",
            "_view_module": "@jupyter-widgets/controls",
            "_model_module_version": "1.5.0",
            "value": " 170499072/? [00:22&lt;00:00, 7599856.86it/s]",
            "_view_count": null,
            "_view_module_version": "1.5.0",
            "description_tooltip": null,
            "_model_module": "@jupyter-widgets/controls",
            "layout": "IPY_MODEL_594dff4d84aa40f280125c3f4b2ad00d"
          }
        },
        "3e8fce9e5d944be6a64657b7419c7162": {
          "model_module": "@jupyter-widgets/controls",
          "model_name": "ProgressStyleModel",
          "state": {
            "_view_name": "StyleView",
            "_model_name": "ProgressStyleModel",
            "description_width": "initial",
            "_view_module": "@jupyter-widgets/base",
            "_model_module_version": "1.5.0",
            "_view_count": null,
            "_view_module_version": "1.2.0",
            "bar_color": null,
            "_model_module": "@jupyter-widgets/controls"
          }
        },
        "8974f181597843a89bc28f1856843d53": {
          "model_module": "@jupyter-widgets/base",
          "model_name": "LayoutModel",
          "state": {
            "_view_name": "LayoutView",
            "grid_template_rows": null,
            "right": null,
            "justify_content": null,
            "_view_module": "@jupyter-widgets/base",
            "overflow": null,
            "_model_module_version": "1.2.0",
            "_view_count": null,
            "flex_flow": null,
            "width": null,
            "min_width": null,
            "border": null,
            "align_items": null,
            "bottom": null,
            "_model_module": "@jupyter-widgets/base",
            "top": null,
            "grid_column": null,
            "overflow_y": null,
            "overflow_x": null,
            "grid_auto_flow": null,
            "grid_area": null,
            "grid_template_columns": null,
            "flex": null,
            "_model_name": "LayoutModel",
            "justify_items": null,
            "grid_row": null,
            "max_height": null,
            "align_content": null,
            "visibility": null,
            "align_self": null,
            "height": null,
            "min_height": null,
            "padding": null,
            "grid_auto_rows": null,
            "grid_gap": null,
            "max_width": null,
            "order": null,
            "_view_module_version": "1.2.0",
            "grid_template_areas": null,
            "object_position": null,
            "object_fit": null,
            "grid_auto_columns": null,
            "margin": null,
            "display": null,
            "left": null
          }
        },
        "92d28e0fd3b142fba6084bde623c41e4": {
          "model_module": "@jupyter-widgets/controls",
          "model_name": "DescriptionStyleModel",
          "state": {
            "_view_name": "StyleView",
            "_model_name": "DescriptionStyleModel",
            "description_width": "",
            "_view_module": "@jupyter-widgets/base",
            "_model_module_version": "1.5.0",
            "_view_count": null,
            "_view_module_version": "1.2.0",
            "_model_module": "@jupyter-widgets/controls"
          }
        },
        "594dff4d84aa40f280125c3f4b2ad00d": {
          "model_module": "@jupyter-widgets/base",
          "model_name": "LayoutModel",
          "state": {
            "_view_name": "LayoutView",
            "grid_template_rows": null,
            "right": null,
            "justify_content": null,
            "_view_module": "@jupyter-widgets/base",
            "overflow": null,
            "_model_module_version": "1.2.0",
            "_view_count": null,
            "flex_flow": null,
            "width": null,
            "min_width": null,
            "border": null,
            "align_items": null,
            "bottom": null,
            "_model_module": "@jupyter-widgets/base",
            "top": null,
            "grid_column": null,
            "overflow_y": null,
            "overflow_x": null,
            "grid_auto_flow": null,
            "grid_area": null,
            "grid_template_columns": null,
            "flex": null,
            "_model_name": "LayoutModel",
            "justify_items": null,
            "grid_row": null,
            "max_height": null,
            "align_content": null,
            "visibility": null,
            "align_self": null,
            "height": null,
            "min_height": null,
            "padding": null,
            "grid_auto_rows": null,
            "grid_gap": null,
            "max_width": null,
            "order": null,
            "_view_module_version": "1.2.0",
            "grid_template_areas": null,
            "object_position": null,
            "object_fit": null,
            "grid_auto_columns": null,
            "margin": null,
            "display": null,
            "left": null
          }
        },
        "ccb3244c90b94a1fa8af04b05a2bb727": {
          "model_module": "@jupyter-widgets/controls",
          "model_name": "HBoxModel",
          "state": {
            "_view_name": "HBoxView",
            "_dom_classes": [],
            "_model_name": "HBoxModel",
            "_view_module": "@jupyter-widgets/controls",
            "_model_module_version": "1.5.0",
            "_view_count": null,
            "_view_module_version": "1.5.0",
            "box_style": "",
            "layout": "IPY_MODEL_e9e872792c39420e800b5cfa1d80e756",
            "_model_module": "@jupyter-widgets/controls",
            "children": [
              "IPY_MODEL_c39532b6c54249bf99de9660d912e599",
              "IPY_MODEL_ab44bf5e493a42c58fc7ba984ccab50f"
            ]
          }
        },
        "e9e872792c39420e800b5cfa1d80e756": {
          "model_module": "@jupyter-widgets/base",
          "model_name": "LayoutModel",
          "state": {
            "_view_name": "LayoutView",
            "grid_template_rows": null,
            "right": null,
            "justify_content": null,
            "_view_module": "@jupyter-widgets/base",
            "overflow": null,
            "_model_module_version": "1.2.0",
            "_view_count": null,
            "flex_flow": null,
            "width": null,
            "min_width": null,
            "border": null,
            "align_items": null,
            "bottom": null,
            "_model_module": "@jupyter-widgets/base",
            "top": null,
            "grid_column": null,
            "overflow_y": null,
            "overflow_x": null,
            "grid_auto_flow": null,
            "grid_area": null,
            "grid_template_columns": null,
            "flex": null,
            "_model_name": "LayoutModel",
            "justify_items": null,
            "grid_row": null,
            "max_height": null,
            "align_content": null,
            "visibility": null,
            "align_self": null,
            "height": null,
            "min_height": null,
            "padding": null,
            "grid_auto_rows": null,
            "grid_gap": null,
            "max_width": null,
            "order": null,
            "_view_module_version": "1.2.0",
            "grid_template_areas": null,
            "object_position": null,
            "object_fit": null,
            "grid_auto_columns": null,
            "margin": null,
            "display": null,
            "left": null
          }
        },
        "c39532b6c54249bf99de9660d912e599": {
          "model_module": "@jupyter-widgets/controls",
          "model_name": "FloatProgressModel",
          "state": {
            "_view_name": "ProgressView",
            "style": "IPY_MODEL_3358689743314c1280ded78737b093d3",
            "_dom_classes": [],
            "description": "100%",
            "_model_name": "FloatProgressModel",
            "bar_style": "success",
            "max": 87306240,
            "_view_module": "@jupyter-widgets/controls",
            "_model_module_version": "1.5.0",
            "value": 87306240,
            "_view_count": null,
            "_view_module_version": "1.5.0",
            "orientation": "horizontal",
            "min": 0,
            "description_tooltip": null,
            "_model_module": "@jupyter-widgets/controls",
            "layout": "IPY_MODEL_3393922492964a46857f55cabaebe837"
          }
        },
        "ab44bf5e493a42c58fc7ba984ccab50f": {
          "model_module": "@jupyter-widgets/controls",
          "model_name": "HTMLModel",
          "state": {
            "_view_name": "HTMLView",
            "style": "IPY_MODEL_c110eefb59d0409eac04315fd84318ac",
            "_dom_classes": [],
            "description": "",
            "_model_name": "HTMLModel",
            "placeholder": "​",
            "_view_module": "@jupyter-widgets/controls",
            "_model_module_version": "1.5.0",
            "value": " 83.3M/83.3M [00:01&lt;00:00, 57.9MB/s]",
            "_view_count": null,
            "_view_module_version": "1.5.0",
            "description_tooltip": null,
            "_model_module": "@jupyter-widgets/controls",
            "layout": "IPY_MODEL_a2a291f6f1f74be6a0790be208296274"
          }
        },
        "3358689743314c1280ded78737b093d3": {
          "model_module": "@jupyter-widgets/controls",
          "model_name": "ProgressStyleModel",
          "state": {
            "_view_name": "StyleView",
            "_model_name": "ProgressStyleModel",
            "description_width": "initial",
            "_view_module": "@jupyter-widgets/base",
            "_model_module_version": "1.5.0",
            "_view_count": null,
            "_view_module_version": "1.2.0",
            "bar_color": null,
            "_model_module": "@jupyter-widgets/controls"
          }
        },
        "3393922492964a46857f55cabaebe837": {
          "model_module": "@jupyter-widgets/base",
          "model_name": "LayoutModel",
          "state": {
            "_view_name": "LayoutView",
            "grid_template_rows": null,
            "right": null,
            "justify_content": null,
            "_view_module": "@jupyter-widgets/base",
            "overflow": null,
            "_model_module_version": "1.2.0",
            "_view_count": null,
            "flex_flow": null,
            "width": null,
            "min_width": null,
            "border": null,
            "align_items": null,
            "bottom": null,
            "_model_module": "@jupyter-widgets/base",
            "top": null,
            "grid_column": null,
            "overflow_y": null,
            "overflow_x": null,
            "grid_auto_flow": null,
            "grid_area": null,
            "grid_template_columns": null,
            "flex": null,
            "_model_name": "LayoutModel",
            "justify_items": null,
            "grid_row": null,
            "max_height": null,
            "align_content": null,
            "visibility": null,
            "align_self": null,
            "height": null,
            "min_height": null,
            "padding": null,
            "grid_auto_rows": null,
            "grid_gap": null,
            "max_width": null,
            "order": null,
            "_view_module_version": "1.2.0",
            "grid_template_areas": null,
            "object_position": null,
            "object_fit": null,
            "grid_auto_columns": null,
            "margin": null,
            "display": null,
            "left": null
          }
        },
        "c110eefb59d0409eac04315fd84318ac": {
          "model_module": "@jupyter-widgets/controls",
          "model_name": "DescriptionStyleModel",
          "state": {
            "_view_name": "StyleView",
            "_model_name": "DescriptionStyleModel",
            "description_width": "",
            "_view_module": "@jupyter-widgets/base",
            "_model_module_version": "1.5.0",
            "_view_count": null,
            "_view_module_version": "1.2.0",
            "_model_module": "@jupyter-widgets/controls"
          }
        },
        "a2a291f6f1f74be6a0790be208296274": {
          "model_module": "@jupyter-widgets/base",
          "model_name": "LayoutModel",
          "state": {
            "_view_name": "LayoutView",
            "grid_template_rows": null,
            "right": null,
            "justify_content": null,
            "_view_module": "@jupyter-widgets/base",
            "overflow": null,
            "_model_module_version": "1.2.0",
            "_view_count": null,
            "flex_flow": null,
            "width": null,
            "min_width": null,
            "border": null,
            "align_items": null,
            "bottom": null,
            "_model_module": "@jupyter-widgets/base",
            "top": null,
            "grid_column": null,
            "overflow_y": null,
            "overflow_x": null,
            "grid_auto_flow": null,
            "grid_area": null,
            "grid_template_columns": null,
            "flex": null,
            "_model_name": "LayoutModel",
            "justify_items": null,
            "grid_row": null,
            "max_height": null,
            "align_content": null,
            "visibility": null,
            "align_self": null,
            "height": null,
            "min_height": null,
            "padding": null,
            "grid_auto_rows": null,
            "grid_gap": null,
            "max_width": null,
            "order": null,
            "_view_module_version": "1.2.0",
            "grid_template_areas": null,
            "object_position": null,
            "object_fit": null,
            "grid_auto_columns": null,
            "margin": null,
            "display": null,
            "left": null
          }
        },
        "443ba3c536cc40fb895ce68c67c1eee9": {
          "model_module": "@jupyter-widgets/controls",
          "model_name": "HBoxModel",
          "state": {
            "_view_name": "HBoxView",
            "_dom_classes": [],
            "_model_name": "HBoxModel",
            "_view_module": "@jupyter-widgets/controls",
            "_model_module_version": "1.5.0",
            "_view_count": null,
            "_view_module_version": "1.5.0",
            "box_style": "",
            "layout": "IPY_MODEL_1c1777e1af214b5b80facd80f941b40b",
            "_model_module": "@jupyter-widgets/controls",
            "children": [
              "IPY_MODEL_3cd8b8102c43428da43d323c91e4355a",
              "IPY_MODEL_121d5ceb785d4cd3b6085ace3b5dd9b6"
            ]
          }
        },
        "1c1777e1af214b5b80facd80f941b40b": {
          "model_module": "@jupyter-widgets/base",
          "model_name": "LayoutModel",
          "state": {
            "_view_name": "LayoutView",
            "grid_template_rows": null,
            "right": null,
            "justify_content": null,
            "_view_module": "@jupyter-widgets/base",
            "overflow": null,
            "_model_module_version": "1.2.0",
            "_view_count": null,
            "flex_flow": null,
            "width": null,
            "min_width": null,
            "border": null,
            "align_items": null,
            "bottom": null,
            "_model_module": "@jupyter-widgets/base",
            "top": null,
            "grid_column": null,
            "overflow_y": null,
            "overflow_x": null,
            "grid_auto_flow": null,
            "grid_area": null,
            "grid_template_columns": null,
            "flex": null,
            "_model_name": "LayoutModel",
            "justify_items": null,
            "grid_row": null,
            "max_height": null,
            "align_content": null,
            "visibility": null,
            "align_self": null,
            "height": null,
            "min_height": null,
            "padding": null,
            "grid_auto_rows": null,
            "grid_gap": null,
            "max_width": null,
            "order": null,
            "_view_module_version": "1.2.0",
            "grid_template_areas": null,
            "object_position": null,
            "object_fit": null,
            "grid_auto_columns": null,
            "margin": null,
            "display": null,
            "left": null
          }
        },
        "3cd8b8102c43428da43d323c91e4355a": {
          "model_module": "@jupyter-widgets/controls",
          "model_name": "FloatProgressModel",
          "state": {
            "_view_name": "ProgressView",
            "style": "IPY_MODEL_7d9e6a9c7e494b4589eaa560c927d401",
            "_dom_classes": [],
            "description": "100%",
            "_model_name": "FloatProgressModel",
            "bar_style": "success",
            "max": 704,
            "_view_module": "@jupyter-widgets/controls",
            "_model_module_version": "1.5.0",
            "value": 704,
            "_view_count": null,
            "_view_module_version": "1.5.0",
            "orientation": "horizontal",
            "min": 0,
            "description_tooltip": null,
            "_model_module": "@jupyter-widgets/controls",
            "layout": "IPY_MODEL_2c1ef0631bd047ecb3b066c80b343873"
          }
        },
        "121d5ceb785d4cd3b6085ace3b5dd9b6": {
          "model_module": "@jupyter-widgets/controls",
          "model_name": "HTMLModel",
          "state": {
            "_view_name": "HTMLView",
            "style": "IPY_MODEL_1c1284214bd041a5b9c3a0eefc48ed63",
            "_dom_classes": [],
            "description": "",
            "_model_name": "HTMLModel",
            "placeholder": "​",
            "_view_module": "@jupyter-widgets/controls",
            "_model_module_version": "1.5.0",
            "value": " 704/704 [11:36&lt;00:00,  1.01it/s]",
            "_view_count": null,
            "_view_module_version": "1.5.0",
            "description_tooltip": null,
            "_model_module": "@jupyter-widgets/controls",
            "layout": "IPY_MODEL_d6d2931c7b07416da3c6629750c86b8e"
          }
        },
        "7d9e6a9c7e494b4589eaa560c927d401": {
          "model_module": "@jupyter-widgets/controls",
          "model_name": "ProgressStyleModel",
          "state": {
            "_view_name": "StyleView",
            "_model_name": "ProgressStyleModel",
            "description_width": "initial",
            "_view_module": "@jupyter-widgets/base",
            "_model_module_version": "1.5.0",
            "_view_count": null,
            "_view_module_version": "1.2.0",
            "bar_color": null,
            "_model_module": "@jupyter-widgets/controls"
          }
        },
        "2c1ef0631bd047ecb3b066c80b343873": {
          "model_module": "@jupyter-widgets/base",
          "model_name": "LayoutModel",
          "state": {
            "_view_name": "LayoutView",
            "grid_template_rows": null,
            "right": null,
            "justify_content": null,
            "_view_module": "@jupyter-widgets/base",
            "overflow": null,
            "_model_module_version": "1.2.0",
            "_view_count": null,
            "flex_flow": null,
            "width": null,
            "min_width": null,
            "border": null,
            "align_items": null,
            "bottom": null,
            "_model_module": "@jupyter-widgets/base",
            "top": null,
            "grid_column": null,
            "overflow_y": null,
            "overflow_x": null,
            "grid_auto_flow": null,
            "grid_area": null,
            "grid_template_columns": null,
            "flex": null,
            "_model_name": "LayoutModel",
            "justify_items": null,
            "grid_row": null,
            "max_height": null,
            "align_content": null,
            "visibility": null,
            "align_self": null,
            "height": null,
            "min_height": null,
            "padding": null,
            "grid_auto_rows": null,
            "grid_gap": null,
            "max_width": null,
            "order": null,
            "_view_module_version": "1.2.0",
            "grid_template_areas": null,
            "object_position": null,
            "object_fit": null,
            "grid_auto_columns": null,
            "margin": null,
            "display": null,
            "left": null
          }
        },
        "1c1284214bd041a5b9c3a0eefc48ed63": {
          "model_module": "@jupyter-widgets/controls",
          "model_name": "DescriptionStyleModel",
          "state": {
            "_view_name": "StyleView",
            "_model_name": "DescriptionStyleModel",
            "description_width": "",
            "_view_module": "@jupyter-widgets/base",
            "_model_module_version": "1.5.0",
            "_view_count": null,
            "_view_module_version": "1.2.0",
            "_model_module": "@jupyter-widgets/controls"
          }
        },
        "d6d2931c7b07416da3c6629750c86b8e": {
          "model_module": "@jupyter-widgets/base",
          "model_name": "LayoutModel",
          "state": {
            "_view_name": "LayoutView",
            "grid_template_rows": null,
            "right": null,
            "justify_content": null,
            "_view_module": "@jupyter-widgets/base",
            "overflow": null,
            "_model_module_version": "1.2.0",
            "_view_count": null,
            "flex_flow": null,
            "width": null,
            "min_width": null,
            "border": null,
            "align_items": null,
            "bottom": null,
            "_model_module": "@jupyter-widgets/base",
            "top": null,
            "grid_column": null,
            "overflow_y": null,
            "overflow_x": null,
            "grid_auto_flow": null,
            "grid_area": null,
            "grid_template_columns": null,
            "flex": null,
            "_model_name": "LayoutModel",
            "justify_items": null,
            "grid_row": null,
            "max_height": null,
            "align_content": null,
            "visibility": null,
            "align_self": null,
            "height": null,
            "min_height": null,
            "padding": null,
            "grid_auto_rows": null,
            "grid_gap": null,
            "max_width": null,
            "order": null,
            "_view_module_version": "1.2.0",
            "grid_template_areas": null,
            "object_position": null,
            "object_fit": null,
            "grid_auto_columns": null,
            "margin": null,
            "display": null,
            "left": null
          }
        },
        "699a04399bd14404a77c1982a9c5e6bf": {
          "model_module": "@jupyter-widgets/controls",
          "model_name": "HBoxModel",
          "state": {
            "_view_name": "HBoxView",
            "_dom_classes": [],
            "_model_name": "HBoxModel",
            "_view_module": "@jupyter-widgets/controls",
            "_model_module_version": "1.5.0",
            "_view_count": null,
            "_view_module_version": "1.5.0",
            "box_style": "",
            "layout": "IPY_MODEL_05d9063441b249f09cfdf7f755dae76b",
            "_model_module": "@jupyter-widgets/controls",
            "children": [
              "IPY_MODEL_367c32c0d2bd47f3bafba3a14a2a997a",
              "IPY_MODEL_74e5a488758d48dcb9fdac04d9daf7bd"
            ]
          }
        },
        "05d9063441b249f09cfdf7f755dae76b": {
          "model_module": "@jupyter-widgets/base",
          "model_name": "LayoutModel",
          "state": {
            "_view_name": "LayoutView",
            "grid_template_rows": null,
            "right": null,
            "justify_content": null,
            "_view_module": "@jupyter-widgets/base",
            "overflow": null,
            "_model_module_version": "1.2.0",
            "_view_count": null,
            "flex_flow": null,
            "width": null,
            "min_width": null,
            "border": null,
            "align_items": null,
            "bottom": null,
            "_model_module": "@jupyter-widgets/base",
            "top": null,
            "grid_column": null,
            "overflow_y": null,
            "overflow_x": null,
            "grid_auto_flow": null,
            "grid_area": null,
            "grid_template_columns": null,
            "flex": null,
            "_model_name": "LayoutModel",
            "justify_items": null,
            "grid_row": null,
            "max_height": null,
            "align_content": null,
            "visibility": null,
            "align_self": null,
            "height": null,
            "min_height": null,
            "padding": null,
            "grid_auto_rows": null,
            "grid_gap": null,
            "max_width": null,
            "order": null,
            "_view_module_version": "1.2.0",
            "grid_template_areas": null,
            "object_position": null,
            "object_fit": null,
            "grid_auto_columns": null,
            "margin": null,
            "display": null,
            "left": null
          }
        },
        "367c32c0d2bd47f3bafba3a14a2a997a": {
          "model_module": "@jupyter-widgets/controls",
          "model_name": "FloatProgressModel",
          "state": {
            "_view_name": "ProgressView",
            "style": "IPY_MODEL_557c08cbe5c44a1db5fd33c1d04c7401",
            "_dom_classes": [],
            "description": "100%",
            "_model_name": "FloatProgressModel",
            "bar_style": "success",
            "max": 704,
            "_view_module": "@jupyter-widgets/controls",
            "_model_module_version": "1.5.0",
            "value": 704,
            "_view_count": null,
            "_view_module_version": "1.5.0",
            "orientation": "horizontal",
            "min": 0,
            "description_tooltip": null,
            "_model_module": "@jupyter-widgets/controls",
            "layout": "IPY_MODEL_b89c441ac8ab44ddbd5cbc7039bdd9b4"
          }
        },
        "74e5a488758d48dcb9fdac04d9daf7bd": {
          "model_module": "@jupyter-widgets/controls",
          "model_name": "HTMLModel",
          "state": {
            "_view_name": "HTMLView",
            "style": "IPY_MODEL_a638c60a211b4750a3240c77d3e34d50",
            "_dom_classes": [],
            "description": "",
            "_model_name": "HTMLModel",
            "placeholder": "​",
            "_view_module": "@jupyter-widgets/controls",
            "_model_module_version": "1.5.0",
            "value": " 704/704 [09:20&lt;00:00,  1.26it/s]",
            "_view_count": null,
            "_view_module_version": "1.5.0",
            "description_tooltip": null,
            "_model_module": "@jupyter-widgets/controls",
            "layout": "IPY_MODEL_64a1375af89348cfbfcf8d2ed8e69e73"
          }
        },
        "557c08cbe5c44a1db5fd33c1d04c7401": {
          "model_module": "@jupyter-widgets/controls",
          "model_name": "ProgressStyleModel",
          "state": {
            "_view_name": "StyleView",
            "_model_name": "ProgressStyleModel",
            "description_width": "initial",
            "_view_module": "@jupyter-widgets/base",
            "_model_module_version": "1.5.0",
            "_view_count": null,
            "_view_module_version": "1.2.0",
            "bar_color": null,
            "_model_module": "@jupyter-widgets/controls"
          }
        },
        "b89c441ac8ab44ddbd5cbc7039bdd9b4": {
          "model_module": "@jupyter-widgets/base",
          "model_name": "LayoutModel",
          "state": {
            "_view_name": "LayoutView",
            "grid_template_rows": null,
            "right": null,
            "justify_content": null,
            "_view_module": "@jupyter-widgets/base",
            "overflow": null,
            "_model_module_version": "1.2.0",
            "_view_count": null,
            "flex_flow": null,
            "width": null,
            "min_width": null,
            "border": null,
            "align_items": null,
            "bottom": null,
            "_model_module": "@jupyter-widgets/base",
            "top": null,
            "grid_column": null,
            "overflow_y": null,
            "overflow_x": null,
            "grid_auto_flow": null,
            "grid_area": null,
            "grid_template_columns": null,
            "flex": null,
            "_model_name": "LayoutModel",
            "justify_items": null,
            "grid_row": null,
            "max_height": null,
            "align_content": null,
            "visibility": null,
            "align_self": null,
            "height": null,
            "min_height": null,
            "padding": null,
            "grid_auto_rows": null,
            "grid_gap": null,
            "max_width": null,
            "order": null,
            "_view_module_version": "1.2.0",
            "grid_template_areas": null,
            "object_position": null,
            "object_fit": null,
            "grid_auto_columns": null,
            "margin": null,
            "display": null,
            "left": null
          }
        },
        "a638c60a211b4750a3240c77d3e34d50": {
          "model_module": "@jupyter-widgets/controls",
          "model_name": "DescriptionStyleModel",
          "state": {
            "_view_name": "StyleView",
            "_model_name": "DescriptionStyleModel",
            "description_width": "",
            "_view_module": "@jupyter-widgets/base",
            "_model_module_version": "1.5.0",
            "_view_count": null,
            "_view_module_version": "1.2.0",
            "_model_module": "@jupyter-widgets/controls"
          }
        },
        "64a1375af89348cfbfcf8d2ed8e69e73": {
          "model_module": "@jupyter-widgets/base",
          "model_name": "LayoutModel",
          "state": {
            "_view_name": "LayoutView",
            "grid_template_rows": null,
            "right": null,
            "justify_content": null,
            "_view_module": "@jupyter-widgets/base",
            "overflow": null,
            "_model_module_version": "1.2.0",
            "_view_count": null,
            "flex_flow": null,
            "width": null,
            "min_width": null,
            "border": null,
            "align_items": null,
            "bottom": null,
            "_model_module": "@jupyter-widgets/base",
            "top": null,
            "grid_column": null,
            "overflow_y": null,
            "overflow_x": null,
            "grid_auto_flow": null,
            "grid_area": null,
            "grid_template_columns": null,
            "flex": null,
            "_model_name": "LayoutModel",
            "justify_items": null,
            "grid_row": null,
            "max_height": null,
            "align_content": null,
            "visibility": null,
            "align_self": null,
            "height": null,
            "min_height": null,
            "padding": null,
            "grid_auto_rows": null,
            "grid_gap": null,
            "max_width": null,
            "order": null,
            "_view_module_version": "1.2.0",
            "grid_template_areas": null,
            "object_position": null,
            "object_fit": null,
            "grid_auto_columns": null,
            "margin": null,
            "display": null,
            "left": null
          }
        },
        "e045eb24c4f549908e03c3cdcc55f625": {
          "model_module": "@jupyter-widgets/controls",
          "model_name": "HBoxModel",
          "state": {
            "_view_name": "HBoxView",
            "_dom_classes": [],
            "_model_name": "HBoxModel",
            "_view_module": "@jupyter-widgets/controls",
            "_model_module_version": "1.5.0",
            "_view_count": null,
            "_view_module_version": "1.5.0",
            "box_style": "",
            "layout": "IPY_MODEL_502aafc2e94949549c801d9c301a2a93",
            "_model_module": "@jupyter-widgets/controls",
            "children": [
              "IPY_MODEL_23b3c00287c6465fa5953f9549ac3551",
              "IPY_MODEL_33b10e418ed34189bb1b531fccf8ec56"
            ]
          }
        },
        "502aafc2e94949549c801d9c301a2a93": {
          "model_module": "@jupyter-widgets/base",
          "model_name": "LayoutModel",
          "state": {
            "_view_name": "LayoutView",
            "grid_template_rows": null,
            "right": null,
            "justify_content": null,
            "_view_module": "@jupyter-widgets/base",
            "overflow": null,
            "_model_module_version": "1.2.0",
            "_view_count": null,
            "flex_flow": null,
            "width": null,
            "min_width": null,
            "border": null,
            "align_items": null,
            "bottom": null,
            "_model_module": "@jupyter-widgets/base",
            "top": null,
            "grid_column": null,
            "overflow_y": null,
            "overflow_x": null,
            "grid_auto_flow": null,
            "grid_area": null,
            "grid_template_columns": null,
            "flex": null,
            "_model_name": "LayoutModel",
            "justify_items": null,
            "grid_row": null,
            "max_height": null,
            "align_content": null,
            "visibility": null,
            "align_self": null,
            "height": null,
            "min_height": null,
            "padding": null,
            "grid_auto_rows": null,
            "grid_gap": null,
            "max_width": null,
            "order": null,
            "_view_module_version": "1.2.0",
            "grid_template_areas": null,
            "object_position": null,
            "object_fit": null,
            "grid_auto_columns": null,
            "margin": null,
            "display": null,
            "left": null
          }
        },
        "23b3c00287c6465fa5953f9549ac3551": {
          "model_module": "@jupyter-widgets/controls",
          "model_name": "FloatProgressModel",
          "state": {
            "_view_name": "ProgressView",
            "style": "IPY_MODEL_e6c32b0b08914daca823e7b50d310929",
            "_dom_classes": [],
            "description": "100%",
            "_model_name": "FloatProgressModel",
            "bar_style": "success",
            "max": 704,
            "_view_module": "@jupyter-widgets/controls",
            "_model_module_version": "1.5.0",
            "value": 704,
            "_view_count": null,
            "_view_module_version": "1.5.0",
            "orientation": "horizontal",
            "min": 0,
            "description_tooltip": null,
            "_model_module": "@jupyter-widgets/controls",
            "layout": "IPY_MODEL_b97b4d546a424302bdc252b190c47ee4"
          }
        },
        "33b10e418ed34189bb1b531fccf8ec56": {
          "model_module": "@jupyter-widgets/controls",
          "model_name": "HTMLModel",
          "state": {
            "_view_name": "HTMLView",
            "style": "IPY_MODEL_a6e6c15b159a4514af69b3a8fd4fcf0a",
            "_dom_classes": [],
            "description": "",
            "_model_name": "HTMLModel",
            "placeholder": "​",
            "_view_module": "@jupyter-widgets/controls",
            "_model_module_version": "1.5.0",
            "value": " 704/704 [07:03&lt;00:00,  1.66it/s]",
            "_view_count": null,
            "_view_module_version": "1.5.0",
            "description_tooltip": null,
            "_model_module": "@jupyter-widgets/controls",
            "layout": "IPY_MODEL_1a06d2cd019849ada388ad6600231f62"
          }
        },
        "e6c32b0b08914daca823e7b50d310929": {
          "model_module": "@jupyter-widgets/controls",
          "model_name": "ProgressStyleModel",
          "state": {
            "_view_name": "StyleView",
            "_model_name": "ProgressStyleModel",
            "description_width": "initial",
            "_view_module": "@jupyter-widgets/base",
            "_model_module_version": "1.5.0",
            "_view_count": null,
            "_view_module_version": "1.2.0",
            "bar_color": null,
            "_model_module": "@jupyter-widgets/controls"
          }
        },
        "b97b4d546a424302bdc252b190c47ee4": {
          "model_module": "@jupyter-widgets/base",
          "model_name": "LayoutModel",
          "state": {
            "_view_name": "LayoutView",
            "grid_template_rows": null,
            "right": null,
            "justify_content": null,
            "_view_module": "@jupyter-widgets/base",
            "overflow": null,
            "_model_module_version": "1.2.0",
            "_view_count": null,
            "flex_flow": null,
            "width": null,
            "min_width": null,
            "border": null,
            "align_items": null,
            "bottom": null,
            "_model_module": "@jupyter-widgets/base",
            "top": null,
            "grid_column": null,
            "overflow_y": null,
            "overflow_x": null,
            "grid_auto_flow": null,
            "grid_area": null,
            "grid_template_columns": null,
            "flex": null,
            "_model_name": "LayoutModel",
            "justify_items": null,
            "grid_row": null,
            "max_height": null,
            "align_content": null,
            "visibility": null,
            "align_self": null,
            "height": null,
            "min_height": null,
            "padding": null,
            "grid_auto_rows": null,
            "grid_gap": null,
            "max_width": null,
            "order": null,
            "_view_module_version": "1.2.0",
            "grid_template_areas": null,
            "object_position": null,
            "object_fit": null,
            "grid_auto_columns": null,
            "margin": null,
            "display": null,
            "left": null
          }
        },
        "a6e6c15b159a4514af69b3a8fd4fcf0a": {
          "model_module": "@jupyter-widgets/controls",
          "model_name": "DescriptionStyleModel",
          "state": {
            "_view_name": "StyleView",
            "_model_name": "DescriptionStyleModel",
            "description_width": "",
            "_view_module": "@jupyter-widgets/base",
            "_model_module_version": "1.5.0",
            "_view_count": null,
            "_view_module_version": "1.2.0",
            "_model_module": "@jupyter-widgets/controls"
          }
        },
        "1a06d2cd019849ada388ad6600231f62": {
          "model_module": "@jupyter-widgets/base",
          "model_name": "LayoutModel",
          "state": {
            "_view_name": "LayoutView",
            "grid_template_rows": null,
            "right": null,
            "justify_content": null,
            "_view_module": "@jupyter-widgets/base",
            "overflow": null,
            "_model_module_version": "1.2.0",
            "_view_count": null,
            "flex_flow": null,
            "width": null,
            "min_width": null,
            "border": null,
            "align_items": null,
            "bottom": null,
            "_model_module": "@jupyter-widgets/base",
            "top": null,
            "grid_column": null,
            "overflow_y": null,
            "overflow_x": null,
            "grid_auto_flow": null,
            "grid_area": null,
            "grid_template_columns": null,
            "flex": null,
            "_model_name": "LayoutModel",
            "justify_items": null,
            "grid_row": null,
            "max_height": null,
            "align_content": null,
            "visibility": null,
            "align_self": null,
            "height": null,
            "min_height": null,
            "padding": null,
            "grid_auto_rows": null,
            "grid_gap": null,
            "max_width": null,
            "order": null,
            "_view_module_version": "1.2.0",
            "grid_template_areas": null,
            "object_position": null,
            "object_fit": null,
            "grid_auto_columns": null,
            "margin": null,
            "display": null,
            "left": null
          }
        },
        "1d61d32d94ba407891f4c63ffbf1b994": {
          "model_module": "@jupyter-widgets/controls",
          "model_name": "HBoxModel",
          "state": {
            "_view_name": "HBoxView",
            "_dom_classes": [],
            "_model_name": "HBoxModel",
            "_view_module": "@jupyter-widgets/controls",
            "_model_module_version": "1.5.0",
            "_view_count": null,
            "_view_module_version": "1.5.0",
            "box_style": "",
            "layout": "IPY_MODEL_c23e4c33a3e04eb1ad8d12f8a60e65ed",
            "_model_module": "@jupyter-widgets/controls",
            "children": [
              "IPY_MODEL_a7f12928c09248e08ca690358d892a6b",
              "IPY_MODEL_86b10d83fd1347f8b550aa52509e06a5"
            ]
          }
        },
        "c23e4c33a3e04eb1ad8d12f8a60e65ed": {
          "model_module": "@jupyter-widgets/base",
          "model_name": "LayoutModel",
          "state": {
            "_view_name": "LayoutView",
            "grid_template_rows": null,
            "right": null,
            "justify_content": null,
            "_view_module": "@jupyter-widgets/base",
            "overflow": null,
            "_model_module_version": "1.2.0",
            "_view_count": null,
            "flex_flow": null,
            "width": null,
            "min_width": null,
            "border": null,
            "align_items": null,
            "bottom": null,
            "_model_module": "@jupyter-widgets/base",
            "top": null,
            "grid_column": null,
            "overflow_y": null,
            "overflow_x": null,
            "grid_auto_flow": null,
            "grid_area": null,
            "grid_template_columns": null,
            "flex": null,
            "_model_name": "LayoutModel",
            "justify_items": null,
            "grid_row": null,
            "max_height": null,
            "align_content": null,
            "visibility": null,
            "align_self": null,
            "height": null,
            "min_height": null,
            "padding": null,
            "grid_auto_rows": null,
            "grid_gap": null,
            "max_width": null,
            "order": null,
            "_view_module_version": "1.2.0",
            "grid_template_areas": null,
            "object_position": null,
            "object_fit": null,
            "grid_auto_columns": null,
            "margin": null,
            "display": null,
            "left": null
          }
        },
        "a7f12928c09248e08ca690358d892a6b": {
          "model_module": "@jupyter-widgets/controls",
          "model_name": "FloatProgressModel",
          "state": {
            "_view_name": "ProgressView",
            "style": "IPY_MODEL_c11c054418714838a1f614c7b0e06a3a",
            "_dom_classes": [],
            "description": "100%",
            "_model_name": "FloatProgressModel",
            "bar_style": "success",
            "max": 704,
            "_view_module": "@jupyter-widgets/controls",
            "_model_module_version": "1.5.0",
            "value": 704,
            "_view_count": null,
            "_view_module_version": "1.5.0",
            "orientation": "horizontal",
            "min": 0,
            "description_tooltip": null,
            "_model_module": "@jupyter-widgets/controls",
            "layout": "IPY_MODEL_9145859afba4497f93ba6f4e9bcf8396"
          }
        },
        "86b10d83fd1347f8b550aa52509e06a5": {
          "model_module": "@jupyter-widgets/controls",
          "model_name": "HTMLModel",
          "state": {
            "_view_name": "HTMLView",
            "style": "IPY_MODEL_65dd71006fb64478992642bd6cb4cf95",
            "_dom_classes": [],
            "description": "",
            "_model_name": "HTMLModel",
            "placeholder": "​",
            "_view_module": "@jupyter-widgets/controls",
            "_model_module_version": "1.5.0",
            "value": " 704/704 [04:47&lt;00:00,  2.45it/s]",
            "_view_count": null,
            "_view_module_version": "1.5.0",
            "description_tooltip": null,
            "_model_module": "@jupyter-widgets/controls",
            "layout": "IPY_MODEL_1830c7a370524f47a97c208b54fa46c3"
          }
        },
        "c11c054418714838a1f614c7b0e06a3a": {
          "model_module": "@jupyter-widgets/controls",
          "model_name": "ProgressStyleModel",
          "state": {
            "_view_name": "StyleView",
            "_model_name": "ProgressStyleModel",
            "description_width": "initial",
            "_view_module": "@jupyter-widgets/base",
            "_model_module_version": "1.5.0",
            "_view_count": null,
            "_view_module_version": "1.2.0",
            "bar_color": null,
            "_model_module": "@jupyter-widgets/controls"
          }
        },
        "9145859afba4497f93ba6f4e9bcf8396": {
          "model_module": "@jupyter-widgets/base",
          "model_name": "LayoutModel",
          "state": {
            "_view_name": "LayoutView",
            "grid_template_rows": null,
            "right": null,
            "justify_content": null,
            "_view_module": "@jupyter-widgets/base",
            "overflow": null,
            "_model_module_version": "1.2.0",
            "_view_count": null,
            "flex_flow": null,
            "width": null,
            "min_width": null,
            "border": null,
            "align_items": null,
            "bottom": null,
            "_model_module": "@jupyter-widgets/base",
            "top": null,
            "grid_column": null,
            "overflow_y": null,
            "overflow_x": null,
            "grid_auto_flow": null,
            "grid_area": null,
            "grid_template_columns": null,
            "flex": null,
            "_model_name": "LayoutModel",
            "justify_items": null,
            "grid_row": null,
            "max_height": null,
            "align_content": null,
            "visibility": null,
            "align_self": null,
            "height": null,
            "min_height": null,
            "padding": null,
            "grid_auto_rows": null,
            "grid_gap": null,
            "max_width": null,
            "order": null,
            "_view_module_version": "1.2.0",
            "grid_template_areas": null,
            "object_position": null,
            "object_fit": null,
            "grid_auto_columns": null,
            "margin": null,
            "display": null,
            "left": null
          }
        },
        "65dd71006fb64478992642bd6cb4cf95": {
          "model_module": "@jupyter-widgets/controls",
          "model_name": "DescriptionStyleModel",
          "state": {
            "_view_name": "StyleView",
            "_model_name": "DescriptionStyleModel",
            "description_width": "",
            "_view_module": "@jupyter-widgets/base",
            "_model_module_version": "1.5.0",
            "_view_count": null,
            "_view_module_version": "1.2.0",
            "_model_module": "@jupyter-widgets/controls"
          }
        },
        "1830c7a370524f47a97c208b54fa46c3": {
          "model_module": "@jupyter-widgets/base",
          "model_name": "LayoutModel",
          "state": {
            "_view_name": "LayoutView",
            "grid_template_rows": null,
            "right": null,
            "justify_content": null,
            "_view_module": "@jupyter-widgets/base",
            "overflow": null,
            "_model_module_version": "1.2.0",
            "_view_count": null,
            "flex_flow": null,
            "width": null,
            "min_width": null,
            "border": null,
            "align_items": null,
            "bottom": null,
            "_model_module": "@jupyter-widgets/base",
            "top": null,
            "grid_column": null,
            "overflow_y": null,
            "overflow_x": null,
            "grid_auto_flow": null,
            "grid_area": null,
            "grid_template_columns": null,
            "flex": null,
            "_model_name": "LayoutModel",
            "justify_items": null,
            "grid_row": null,
            "max_height": null,
            "align_content": null,
            "visibility": null,
            "align_self": null,
            "height": null,
            "min_height": null,
            "padding": null,
            "grid_auto_rows": null,
            "grid_gap": null,
            "max_width": null,
            "order": null,
            "_view_module_version": "1.2.0",
            "grid_template_areas": null,
            "object_position": null,
            "object_fit": null,
            "grid_auto_columns": null,
            "margin": null,
            "display": null,
            "left": null
          }
        },
        "6af4a616aab7475fa249806e85b4af46": {
          "model_module": "@jupyter-widgets/controls",
          "model_name": "HBoxModel",
          "state": {
            "_view_name": "HBoxView",
            "_dom_classes": [],
            "_model_name": "HBoxModel",
            "_view_module": "@jupyter-widgets/controls",
            "_model_module_version": "1.5.0",
            "_view_count": null,
            "_view_module_version": "1.5.0",
            "box_style": "",
            "layout": "IPY_MODEL_6f9da0c251844586aca8c483488986fc",
            "_model_module": "@jupyter-widgets/controls",
            "children": [
              "IPY_MODEL_074aaa8713c845578003af816e1bcaf6",
              "IPY_MODEL_ea43ecae27e34285a27685be56770b3b"
            ]
          }
        },
        "6f9da0c251844586aca8c483488986fc": {
          "model_module": "@jupyter-widgets/base",
          "model_name": "LayoutModel",
          "state": {
            "_view_name": "LayoutView",
            "grid_template_rows": null,
            "right": null,
            "justify_content": null,
            "_view_module": "@jupyter-widgets/base",
            "overflow": null,
            "_model_module_version": "1.2.0",
            "_view_count": null,
            "flex_flow": null,
            "width": null,
            "min_width": null,
            "border": null,
            "align_items": null,
            "bottom": null,
            "_model_module": "@jupyter-widgets/base",
            "top": null,
            "grid_column": null,
            "overflow_y": null,
            "overflow_x": null,
            "grid_auto_flow": null,
            "grid_area": null,
            "grid_template_columns": null,
            "flex": null,
            "_model_name": "LayoutModel",
            "justify_items": null,
            "grid_row": null,
            "max_height": null,
            "align_content": null,
            "visibility": null,
            "align_self": null,
            "height": null,
            "min_height": null,
            "padding": null,
            "grid_auto_rows": null,
            "grid_gap": null,
            "max_width": null,
            "order": null,
            "_view_module_version": "1.2.0",
            "grid_template_areas": null,
            "object_position": null,
            "object_fit": null,
            "grid_auto_columns": null,
            "margin": null,
            "display": null,
            "left": null
          }
        },
        "074aaa8713c845578003af816e1bcaf6": {
          "model_module": "@jupyter-widgets/controls",
          "model_name": "FloatProgressModel",
          "state": {
            "_view_name": "ProgressView",
            "style": "IPY_MODEL_2aec63a0b6c84cdabfc6e9ecf16acfaf",
            "_dom_classes": [],
            "description": "100%",
            "_model_name": "FloatProgressModel",
            "bar_style": "success",
            "max": 704,
            "_view_module": "@jupyter-widgets/controls",
            "_model_module_version": "1.5.0",
            "value": 704,
            "_view_count": null,
            "_view_module_version": "1.5.0",
            "orientation": "horizontal",
            "min": 0,
            "description_tooltip": null,
            "_model_module": "@jupyter-widgets/controls",
            "layout": "IPY_MODEL_5bee2034901e44a49312a15d9ed8adcb"
          }
        },
        "ea43ecae27e34285a27685be56770b3b": {
          "model_module": "@jupyter-widgets/controls",
          "model_name": "HTMLModel",
          "state": {
            "_view_name": "HTMLView",
            "style": "IPY_MODEL_26f81a4a37b24e629295e58fc512f08c",
            "_dom_classes": [],
            "description": "",
            "_model_name": "HTMLModel",
            "placeholder": "​",
            "_view_module": "@jupyter-widgets/controls",
            "_model_module_version": "1.5.0",
            "value": " 704/704 [02:31&lt;00:00,  4.65it/s]",
            "_view_count": null,
            "_view_module_version": "1.5.0",
            "description_tooltip": null,
            "_model_module": "@jupyter-widgets/controls",
            "layout": "IPY_MODEL_ee70669c95594a49887a6cf54754bfe4"
          }
        },
        "2aec63a0b6c84cdabfc6e9ecf16acfaf": {
          "model_module": "@jupyter-widgets/controls",
          "model_name": "ProgressStyleModel",
          "state": {
            "_view_name": "StyleView",
            "_model_name": "ProgressStyleModel",
            "description_width": "initial",
            "_view_module": "@jupyter-widgets/base",
            "_model_module_version": "1.5.0",
            "_view_count": null,
            "_view_module_version": "1.2.0",
            "bar_color": null,
            "_model_module": "@jupyter-widgets/controls"
          }
        },
        "5bee2034901e44a49312a15d9ed8adcb": {
          "model_module": "@jupyter-widgets/base",
          "model_name": "LayoutModel",
          "state": {
            "_view_name": "LayoutView",
            "grid_template_rows": null,
            "right": null,
            "justify_content": null,
            "_view_module": "@jupyter-widgets/base",
            "overflow": null,
            "_model_module_version": "1.2.0",
            "_view_count": null,
            "flex_flow": null,
            "width": null,
            "min_width": null,
            "border": null,
            "align_items": null,
            "bottom": null,
            "_model_module": "@jupyter-widgets/base",
            "top": null,
            "grid_column": null,
            "overflow_y": null,
            "overflow_x": null,
            "grid_auto_flow": null,
            "grid_area": null,
            "grid_template_columns": null,
            "flex": null,
            "_model_name": "LayoutModel",
            "justify_items": null,
            "grid_row": null,
            "max_height": null,
            "align_content": null,
            "visibility": null,
            "align_self": null,
            "height": null,
            "min_height": null,
            "padding": null,
            "grid_auto_rows": null,
            "grid_gap": null,
            "max_width": null,
            "order": null,
            "_view_module_version": "1.2.0",
            "grid_template_areas": null,
            "object_position": null,
            "object_fit": null,
            "grid_auto_columns": null,
            "margin": null,
            "display": null,
            "left": null
          }
        },
        "26f81a4a37b24e629295e58fc512f08c": {
          "model_module": "@jupyter-widgets/controls",
          "model_name": "DescriptionStyleModel",
          "state": {
            "_view_name": "StyleView",
            "_model_name": "DescriptionStyleModel",
            "description_width": "",
            "_view_module": "@jupyter-widgets/base",
            "_model_module_version": "1.5.0",
            "_view_count": null,
            "_view_module_version": "1.2.0",
            "_model_module": "@jupyter-widgets/controls"
          }
        },
        "ee70669c95594a49887a6cf54754bfe4": {
          "model_module": "@jupyter-widgets/base",
          "model_name": "LayoutModel",
          "state": {
            "_view_name": "LayoutView",
            "grid_template_rows": null,
            "right": null,
            "justify_content": null,
            "_view_module": "@jupyter-widgets/base",
            "overflow": null,
            "_model_module_version": "1.2.0",
            "_view_count": null,
            "flex_flow": null,
            "width": null,
            "min_width": null,
            "border": null,
            "align_items": null,
            "bottom": null,
            "_model_module": "@jupyter-widgets/base",
            "top": null,
            "grid_column": null,
            "overflow_y": null,
            "overflow_x": null,
            "grid_auto_flow": null,
            "grid_area": null,
            "grid_template_columns": null,
            "flex": null,
            "_model_name": "LayoutModel",
            "justify_items": null,
            "grid_row": null,
            "max_height": null,
            "align_content": null,
            "visibility": null,
            "align_self": null,
            "height": null,
            "min_height": null,
            "padding": null,
            "grid_auto_rows": null,
            "grid_gap": null,
            "max_width": null,
            "order": null,
            "_view_module_version": "1.2.0",
            "grid_template_areas": null,
            "object_position": null,
            "object_fit": null,
            "grid_auto_columns": null,
            "margin": null,
            "display": null,
            "left": null
          }
        },
        "7b666ad635bd4d599560e31500fb7a8b": {
          "model_module": "@jupyter-widgets/controls",
          "model_name": "HBoxModel",
          "state": {
            "_view_name": "HBoxView",
            "_dom_classes": [],
            "_model_name": "HBoxModel",
            "_view_module": "@jupyter-widgets/controls",
            "_model_module_version": "1.5.0",
            "_view_count": null,
            "_view_module_version": "1.5.0",
            "box_style": "",
            "layout": "IPY_MODEL_b4e301c1b986443986d572013c169b9f",
            "_model_module": "@jupyter-widgets/controls",
            "children": [
              "IPY_MODEL_4f7edde8820d400c862e4be7c913f342",
              "IPY_MODEL_ef22955f74364001b8e5e6403579c5ea"
            ]
          }
        },
        "b4e301c1b986443986d572013c169b9f": {
          "model_module": "@jupyter-widgets/base",
          "model_name": "LayoutModel",
          "state": {
            "_view_name": "LayoutView",
            "grid_template_rows": null,
            "right": null,
            "justify_content": null,
            "_view_module": "@jupyter-widgets/base",
            "overflow": null,
            "_model_module_version": "1.2.0",
            "_view_count": null,
            "flex_flow": null,
            "width": null,
            "min_width": null,
            "border": null,
            "align_items": null,
            "bottom": null,
            "_model_module": "@jupyter-widgets/base",
            "top": null,
            "grid_column": null,
            "overflow_y": null,
            "overflow_x": null,
            "grid_auto_flow": null,
            "grid_area": null,
            "grid_template_columns": null,
            "flex": null,
            "_model_name": "LayoutModel",
            "justify_items": null,
            "grid_row": null,
            "max_height": null,
            "align_content": null,
            "visibility": null,
            "align_self": null,
            "height": null,
            "min_height": null,
            "padding": null,
            "grid_auto_rows": null,
            "grid_gap": null,
            "max_width": null,
            "order": null,
            "_view_module_version": "1.2.0",
            "grid_template_areas": null,
            "object_position": null,
            "object_fit": null,
            "grid_auto_columns": null,
            "margin": null,
            "display": null,
            "left": null
          }
        },
        "4f7edde8820d400c862e4be7c913f342": {
          "model_module": "@jupyter-widgets/controls",
          "model_name": "FloatProgressModel",
          "state": {
            "_view_name": "ProgressView",
            "style": "IPY_MODEL_d81e99317d8547238d4ed63778ff33f9",
            "_dom_classes": [],
            "description": "100%",
            "_model_name": "FloatProgressModel",
            "bar_style": "success",
            "max": 704,
            "_view_module": "@jupyter-widgets/controls",
            "_model_module_version": "1.5.0",
            "value": 704,
            "_view_count": null,
            "_view_module_version": "1.5.0",
            "orientation": "horizontal",
            "min": 0,
            "description_tooltip": null,
            "_model_module": "@jupyter-widgets/controls",
            "layout": "IPY_MODEL_b2bb4749a8ca4fc7bbbe6c08ed269c07"
          }
        },
        "ef22955f74364001b8e5e6403579c5ea": {
          "model_module": "@jupyter-widgets/controls",
          "model_name": "HTMLModel",
          "state": {
            "_view_name": "HTMLView",
            "style": "IPY_MODEL_755aa3a6c75d4f85917a06f0d22e54e7",
            "_dom_classes": [],
            "description": "",
            "_model_name": "HTMLModel",
            "placeholder": "​",
            "_view_module": "@jupyter-widgets/controls",
            "_model_module_version": "1.5.0",
            "value": " 704/704 [03:45&lt;00:00,  3.13it/s]",
            "_view_count": null,
            "_view_module_version": "1.5.0",
            "description_tooltip": null,
            "_model_module": "@jupyter-widgets/controls",
            "layout": "IPY_MODEL_85ccc167eed94bf38d2e4cb8ac8cf2b5"
          }
        },
        "d81e99317d8547238d4ed63778ff33f9": {
          "model_module": "@jupyter-widgets/controls",
          "model_name": "ProgressStyleModel",
          "state": {
            "_view_name": "StyleView",
            "_model_name": "ProgressStyleModel",
            "description_width": "initial",
            "_view_module": "@jupyter-widgets/base",
            "_model_module_version": "1.5.0",
            "_view_count": null,
            "_view_module_version": "1.2.0",
            "bar_color": null,
            "_model_module": "@jupyter-widgets/controls"
          }
        },
        "b2bb4749a8ca4fc7bbbe6c08ed269c07": {
          "model_module": "@jupyter-widgets/base",
          "model_name": "LayoutModel",
          "state": {
            "_view_name": "LayoutView",
            "grid_template_rows": null,
            "right": null,
            "justify_content": null,
            "_view_module": "@jupyter-widgets/base",
            "overflow": null,
            "_model_module_version": "1.2.0",
            "_view_count": null,
            "flex_flow": null,
            "width": null,
            "min_width": null,
            "border": null,
            "align_items": null,
            "bottom": null,
            "_model_module": "@jupyter-widgets/base",
            "top": null,
            "grid_column": null,
            "overflow_y": null,
            "overflow_x": null,
            "grid_auto_flow": null,
            "grid_area": null,
            "grid_template_columns": null,
            "flex": null,
            "_model_name": "LayoutModel",
            "justify_items": null,
            "grid_row": null,
            "max_height": null,
            "align_content": null,
            "visibility": null,
            "align_self": null,
            "height": null,
            "min_height": null,
            "padding": null,
            "grid_auto_rows": null,
            "grid_gap": null,
            "max_width": null,
            "order": null,
            "_view_module_version": "1.2.0",
            "grid_template_areas": null,
            "object_position": null,
            "object_fit": null,
            "grid_auto_columns": null,
            "margin": null,
            "display": null,
            "left": null
          }
        },
        "755aa3a6c75d4f85917a06f0d22e54e7": {
          "model_module": "@jupyter-widgets/controls",
          "model_name": "DescriptionStyleModel",
          "state": {
            "_view_name": "StyleView",
            "_model_name": "DescriptionStyleModel",
            "description_width": "",
            "_view_module": "@jupyter-widgets/base",
            "_model_module_version": "1.5.0",
            "_view_count": null,
            "_view_module_version": "1.2.0",
            "_model_module": "@jupyter-widgets/controls"
          }
        },
        "85ccc167eed94bf38d2e4cb8ac8cf2b5": {
          "model_module": "@jupyter-widgets/base",
          "model_name": "LayoutModel",
          "state": {
            "_view_name": "LayoutView",
            "grid_template_rows": null,
            "right": null,
            "justify_content": null,
            "_view_module": "@jupyter-widgets/base",
            "overflow": null,
            "_model_module_version": "1.2.0",
            "_view_count": null,
            "flex_flow": null,
            "width": null,
            "min_width": null,
            "border": null,
            "align_items": null,
            "bottom": null,
            "_model_module": "@jupyter-widgets/base",
            "top": null,
            "grid_column": null,
            "overflow_y": null,
            "overflow_x": null,
            "grid_auto_flow": null,
            "grid_area": null,
            "grid_template_columns": null,
            "flex": null,
            "_model_name": "LayoutModel",
            "justify_items": null,
            "grid_row": null,
            "max_height": null,
            "align_content": null,
            "visibility": null,
            "align_self": null,
            "height": null,
            "min_height": null,
            "padding": null,
            "grid_auto_rows": null,
            "grid_gap": null,
            "max_width": null,
            "order": null,
            "_view_module_version": "1.2.0",
            "grid_template_areas": null,
            "object_position": null,
            "object_fit": null,
            "grid_auto_columns": null,
            "margin": null,
            "display": null,
            "left": null
          }
        },
        "e81e1757115f46ae8ce219734de0f76a": {
          "model_module": "@jupyter-widgets/controls",
          "model_name": "HBoxModel",
          "state": {
            "_view_name": "HBoxView",
            "_dom_classes": [],
            "_model_name": "HBoxModel",
            "_view_module": "@jupyter-widgets/controls",
            "_model_module_version": "1.5.0",
            "_view_count": null,
            "_view_module_version": "1.5.0",
            "box_style": "",
            "layout": "IPY_MODEL_11039e611562415881a28c96080b1771",
            "_model_module": "@jupyter-widgets/controls",
            "children": [
              "IPY_MODEL_20056bd19c1b4a89a03c676949771b30",
              "IPY_MODEL_49a37b7ca8934237a6d38616272f8893"
            ]
          }
        },
        "11039e611562415881a28c96080b1771": {
          "model_module": "@jupyter-widgets/base",
          "model_name": "LayoutModel",
          "state": {
            "_view_name": "LayoutView",
            "grid_template_rows": null,
            "right": null,
            "justify_content": null,
            "_view_module": "@jupyter-widgets/base",
            "overflow": null,
            "_model_module_version": "1.2.0",
            "_view_count": null,
            "flex_flow": null,
            "width": null,
            "min_width": null,
            "border": null,
            "align_items": null,
            "bottom": null,
            "_model_module": "@jupyter-widgets/base",
            "top": null,
            "grid_column": null,
            "overflow_y": null,
            "overflow_x": null,
            "grid_auto_flow": null,
            "grid_area": null,
            "grid_template_columns": null,
            "flex": null,
            "_model_name": "LayoutModel",
            "justify_items": null,
            "grid_row": null,
            "max_height": null,
            "align_content": null,
            "visibility": null,
            "align_self": null,
            "height": null,
            "min_height": null,
            "padding": null,
            "grid_auto_rows": null,
            "grid_gap": null,
            "max_width": null,
            "order": null,
            "_view_module_version": "1.2.0",
            "grid_template_areas": null,
            "object_position": null,
            "object_fit": null,
            "grid_auto_columns": null,
            "margin": null,
            "display": null,
            "left": null
          }
        },
        "20056bd19c1b4a89a03c676949771b30": {
          "model_module": "@jupyter-widgets/controls",
          "model_name": "FloatProgressModel",
          "state": {
            "_view_name": "ProgressView",
            "style": "IPY_MODEL_b1b8111dcff940e6acdadfe5606f755a",
            "_dom_classes": [],
            "description": "100%",
            "_model_name": "FloatProgressModel",
            "bar_style": "success",
            "max": 704,
            "_view_module": "@jupyter-widgets/controls",
            "_model_module_version": "1.5.0",
            "value": 704,
            "_view_count": null,
            "_view_module_version": "1.5.0",
            "orientation": "horizontal",
            "min": 0,
            "description_tooltip": null,
            "_model_module": "@jupyter-widgets/controls",
            "layout": "IPY_MODEL_34aed798772f4017a8fd8af6f4170afa"
          }
        },
        "49a37b7ca8934237a6d38616272f8893": {
          "model_module": "@jupyter-widgets/controls",
          "model_name": "HTMLModel",
          "state": {
            "_view_name": "HTMLView",
            "style": "IPY_MODEL_f299edd0cddc4be19f7c08809106df48",
            "_dom_classes": [],
            "description": "",
            "_model_name": "HTMLModel",
            "placeholder": "​",
            "_view_module": "@jupyter-widgets/controls",
            "_model_module_version": "1.5.0",
            "value": " 704/704 [02:31&lt;00:00,  4.63it/s]",
            "_view_count": null,
            "_view_module_version": "1.5.0",
            "description_tooltip": null,
            "_model_module": "@jupyter-widgets/controls",
            "layout": "IPY_MODEL_0fdcaa3015ca445d9a03a4863db9ffc1"
          }
        },
        "b1b8111dcff940e6acdadfe5606f755a": {
          "model_module": "@jupyter-widgets/controls",
          "model_name": "ProgressStyleModel",
          "state": {
            "_view_name": "StyleView",
            "_model_name": "ProgressStyleModel",
            "description_width": "initial",
            "_view_module": "@jupyter-widgets/base",
            "_model_module_version": "1.5.0",
            "_view_count": null,
            "_view_module_version": "1.2.0",
            "bar_color": null,
            "_model_module": "@jupyter-widgets/controls"
          }
        },
        "34aed798772f4017a8fd8af6f4170afa": {
          "model_module": "@jupyter-widgets/base",
          "model_name": "LayoutModel",
          "state": {
            "_view_name": "LayoutView",
            "grid_template_rows": null,
            "right": null,
            "justify_content": null,
            "_view_module": "@jupyter-widgets/base",
            "overflow": null,
            "_model_module_version": "1.2.0",
            "_view_count": null,
            "flex_flow": null,
            "width": null,
            "min_width": null,
            "border": null,
            "align_items": null,
            "bottom": null,
            "_model_module": "@jupyter-widgets/base",
            "top": null,
            "grid_column": null,
            "overflow_y": null,
            "overflow_x": null,
            "grid_auto_flow": null,
            "grid_area": null,
            "grid_template_columns": null,
            "flex": null,
            "_model_name": "LayoutModel",
            "justify_items": null,
            "grid_row": null,
            "max_height": null,
            "align_content": null,
            "visibility": null,
            "align_self": null,
            "height": null,
            "min_height": null,
            "padding": null,
            "grid_auto_rows": null,
            "grid_gap": null,
            "max_width": null,
            "order": null,
            "_view_module_version": "1.2.0",
            "grid_template_areas": null,
            "object_position": null,
            "object_fit": null,
            "grid_auto_columns": null,
            "margin": null,
            "display": null,
            "left": null
          }
        },
        "f299edd0cddc4be19f7c08809106df48": {
          "model_module": "@jupyter-widgets/controls",
          "model_name": "DescriptionStyleModel",
          "state": {
            "_view_name": "StyleView",
            "_model_name": "DescriptionStyleModel",
            "description_width": "",
            "_view_module": "@jupyter-widgets/base",
            "_model_module_version": "1.5.0",
            "_view_count": null,
            "_view_module_version": "1.2.0",
            "_model_module": "@jupyter-widgets/controls"
          }
        },
        "0fdcaa3015ca445d9a03a4863db9ffc1": {
          "model_module": "@jupyter-widgets/base",
          "model_name": "LayoutModel",
          "state": {
            "_view_name": "LayoutView",
            "grid_template_rows": null,
            "right": null,
            "justify_content": null,
            "_view_module": "@jupyter-widgets/base",
            "overflow": null,
            "_model_module_version": "1.2.0",
            "_view_count": null,
            "flex_flow": null,
            "width": null,
            "min_width": null,
            "border": null,
            "align_items": null,
            "bottom": null,
            "_model_module": "@jupyter-widgets/base",
            "top": null,
            "grid_column": null,
            "overflow_y": null,
            "overflow_x": null,
            "grid_auto_flow": null,
            "grid_area": null,
            "grid_template_columns": null,
            "flex": null,
            "_model_name": "LayoutModel",
            "justify_items": null,
            "grid_row": null,
            "max_height": null,
            "align_content": null,
            "visibility": null,
            "align_self": null,
            "height": null,
            "min_height": null,
            "padding": null,
            "grid_auto_rows": null,
            "grid_gap": null,
            "max_width": null,
            "order": null,
            "_view_module_version": "1.2.0",
            "grid_template_areas": null,
            "object_position": null,
            "object_fit": null,
            "grid_auto_columns": null,
            "margin": null,
            "display": null,
            "left": null
          }
        },
        "150bfa4407124bea97008d97b12fe732": {
          "model_module": "@jupyter-widgets/controls",
          "model_name": "HBoxModel",
          "state": {
            "_view_name": "HBoxView",
            "_dom_classes": [],
            "_model_name": "HBoxModel",
            "_view_module": "@jupyter-widgets/controls",
            "_model_module_version": "1.5.0",
            "_view_count": null,
            "_view_module_version": "1.5.0",
            "box_style": "",
            "layout": "IPY_MODEL_10dcbc2858594fc3a8e4ca86ddfb3068",
            "_model_module": "@jupyter-widgets/controls",
            "children": [
              "IPY_MODEL_f87e9285412c42df89a65a2a119188a1",
              "IPY_MODEL_eab5c3d467764a7c8a834ca887fa2d6f"
            ]
          }
        },
        "10dcbc2858594fc3a8e4ca86ddfb3068": {
          "model_module": "@jupyter-widgets/base",
          "model_name": "LayoutModel",
          "state": {
            "_view_name": "LayoutView",
            "grid_template_rows": null,
            "right": null,
            "justify_content": null,
            "_view_module": "@jupyter-widgets/base",
            "overflow": null,
            "_model_module_version": "1.2.0",
            "_view_count": null,
            "flex_flow": null,
            "width": null,
            "min_width": null,
            "border": null,
            "align_items": null,
            "bottom": null,
            "_model_module": "@jupyter-widgets/base",
            "top": null,
            "grid_column": null,
            "overflow_y": null,
            "overflow_x": null,
            "grid_auto_flow": null,
            "grid_area": null,
            "grid_template_columns": null,
            "flex": null,
            "_model_name": "LayoutModel",
            "justify_items": null,
            "grid_row": null,
            "max_height": null,
            "align_content": null,
            "visibility": null,
            "align_self": null,
            "height": null,
            "min_height": null,
            "padding": null,
            "grid_auto_rows": null,
            "grid_gap": null,
            "max_width": null,
            "order": null,
            "_view_module_version": "1.2.0",
            "grid_template_areas": null,
            "object_position": null,
            "object_fit": null,
            "grid_auto_columns": null,
            "margin": null,
            "display": null,
            "left": null
          }
        },
        "f87e9285412c42df89a65a2a119188a1": {
          "model_module": "@jupyter-widgets/controls",
          "model_name": "FloatProgressModel",
          "state": {
            "_view_name": "ProgressView",
            "style": "IPY_MODEL_0f74faa564c346dcac894ac3efa42780",
            "_dom_classes": [],
            "description": "100%",
            "_model_name": "FloatProgressModel",
            "bar_style": "success",
            "max": 704,
            "_view_module": "@jupyter-widgets/controls",
            "_model_module_version": "1.5.0",
            "value": 704,
            "_view_count": null,
            "_view_module_version": "1.5.0",
            "orientation": "horizontal",
            "min": 0,
            "description_tooltip": null,
            "_model_module": "@jupyter-widgets/controls",
            "layout": "IPY_MODEL_b8151b9ae38247149f57577dc62b3281"
          }
        },
        "eab5c3d467764a7c8a834ca887fa2d6f": {
          "model_module": "@jupyter-widgets/controls",
          "model_name": "HTMLModel",
          "state": {
            "_view_name": "HTMLView",
            "style": "IPY_MODEL_a4caf38298b44d38a7b555be8dedac7f",
            "_dom_classes": [],
            "description": "",
            "_model_name": "HTMLModel",
            "placeholder": "​",
            "_view_module": "@jupyter-widgets/controls",
            "_model_module_version": "1.5.0",
            "value": " 704/704 [01:18&lt;00:00,  8.96it/s]",
            "_view_count": null,
            "_view_module_version": "1.5.0",
            "description_tooltip": null,
            "_model_module": "@jupyter-widgets/controls",
            "layout": "IPY_MODEL_50804a8e71454c1bb8813e4ce8e8adb4"
          }
        },
        "0f74faa564c346dcac894ac3efa42780": {
          "model_module": "@jupyter-widgets/controls",
          "model_name": "ProgressStyleModel",
          "state": {
            "_view_name": "StyleView",
            "_model_name": "ProgressStyleModel",
            "description_width": "initial",
            "_view_module": "@jupyter-widgets/base",
            "_model_module_version": "1.5.0",
            "_view_count": null,
            "_view_module_version": "1.2.0",
            "bar_color": null,
            "_model_module": "@jupyter-widgets/controls"
          }
        },
        "b8151b9ae38247149f57577dc62b3281": {
          "model_module": "@jupyter-widgets/base",
          "model_name": "LayoutModel",
          "state": {
            "_view_name": "LayoutView",
            "grid_template_rows": null,
            "right": null,
            "justify_content": null,
            "_view_module": "@jupyter-widgets/base",
            "overflow": null,
            "_model_module_version": "1.2.0",
            "_view_count": null,
            "flex_flow": null,
            "width": null,
            "min_width": null,
            "border": null,
            "align_items": null,
            "bottom": null,
            "_model_module": "@jupyter-widgets/base",
            "top": null,
            "grid_column": null,
            "overflow_y": null,
            "overflow_x": null,
            "grid_auto_flow": null,
            "grid_area": null,
            "grid_template_columns": null,
            "flex": null,
            "_model_name": "LayoutModel",
            "justify_items": null,
            "grid_row": null,
            "max_height": null,
            "align_content": null,
            "visibility": null,
            "align_self": null,
            "height": null,
            "min_height": null,
            "padding": null,
            "grid_auto_rows": null,
            "grid_gap": null,
            "max_width": null,
            "order": null,
            "_view_module_version": "1.2.0",
            "grid_template_areas": null,
            "object_position": null,
            "object_fit": null,
            "grid_auto_columns": null,
            "margin": null,
            "display": null,
            "left": null
          }
        },
        "a4caf38298b44d38a7b555be8dedac7f": {
          "model_module": "@jupyter-widgets/controls",
          "model_name": "DescriptionStyleModel",
          "state": {
            "_view_name": "StyleView",
            "_model_name": "DescriptionStyleModel",
            "description_width": "",
            "_view_module": "@jupyter-widgets/base",
            "_model_module_version": "1.5.0",
            "_view_count": null,
            "_view_module_version": "1.2.0",
            "_model_module": "@jupyter-widgets/controls"
          }
        },
        "50804a8e71454c1bb8813e4ce8e8adb4": {
          "model_module": "@jupyter-widgets/base",
          "model_name": "LayoutModel",
          "state": {
            "_view_name": "LayoutView",
            "grid_template_rows": null,
            "right": null,
            "justify_content": null,
            "_view_module": "@jupyter-widgets/base",
            "overflow": null,
            "_model_module_version": "1.2.0",
            "_view_count": null,
            "flex_flow": null,
            "width": null,
            "min_width": null,
            "border": null,
            "align_items": null,
            "bottom": null,
            "_model_module": "@jupyter-widgets/base",
            "top": null,
            "grid_column": null,
            "overflow_y": null,
            "overflow_x": null,
            "grid_auto_flow": null,
            "grid_area": null,
            "grid_template_columns": null,
            "flex": null,
            "_model_name": "LayoutModel",
            "justify_items": null,
            "grid_row": null,
            "max_height": null,
            "align_content": null,
            "visibility": null,
            "align_self": null,
            "height": null,
            "min_height": null,
            "padding": null,
            "grid_auto_rows": null,
            "grid_gap": null,
            "max_width": null,
            "order": null,
            "_view_module_version": "1.2.0",
            "grid_template_areas": null,
            "object_position": null,
            "object_fit": null,
            "grid_auto_columns": null,
            "margin": null,
            "display": null,
            "left": null
          }
        },
        "308701d70f304ca3b9449b2b24c0a595": {
          "model_module": "@jupyter-widgets/controls",
          "model_name": "HBoxModel",
          "state": {
            "_view_name": "HBoxView",
            "_dom_classes": [],
            "_model_name": "HBoxModel",
            "_view_module": "@jupyter-widgets/controls",
            "_model_module_version": "1.5.0",
            "_view_count": null,
            "_view_module_version": "1.5.0",
            "box_style": "",
            "layout": "IPY_MODEL_c2fd5c6e60b444cd8d537c63b06ca76e",
            "_model_module": "@jupyter-widgets/controls",
            "children": [
              "IPY_MODEL_229bc502a6584d9ca3b6346051295ee6",
              "IPY_MODEL_8e820020c0b1490986d3326a24d240a0"
            ]
          }
        },
        "c2fd5c6e60b444cd8d537c63b06ca76e": {
          "model_module": "@jupyter-widgets/base",
          "model_name": "LayoutModel",
          "state": {
            "_view_name": "LayoutView",
            "grid_template_rows": null,
            "right": null,
            "justify_content": null,
            "_view_module": "@jupyter-widgets/base",
            "overflow": null,
            "_model_module_version": "1.2.0",
            "_view_count": null,
            "flex_flow": null,
            "width": null,
            "min_width": null,
            "border": null,
            "align_items": null,
            "bottom": null,
            "_model_module": "@jupyter-widgets/base",
            "top": null,
            "grid_column": null,
            "overflow_y": null,
            "overflow_x": null,
            "grid_auto_flow": null,
            "grid_area": null,
            "grid_template_columns": null,
            "flex": null,
            "_model_name": "LayoutModel",
            "justify_items": null,
            "grid_row": null,
            "max_height": null,
            "align_content": null,
            "visibility": null,
            "align_self": null,
            "height": null,
            "min_height": null,
            "padding": null,
            "grid_auto_rows": null,
            "grid_gap": null,
            "max_width": null,
            "order": null,
            "_view_module_version": "1.2.0",
            "grid_template_areas": null,
            "object_position": null,
            "object_fit": null,
            "grid_auto_columns": null,
            "margin": null,
            "display": null,
            "left": null
          }
        },
        "229bc502a6584d9ca3b6346051295ee6": {
          "model_module": "@jupyter-widgets/controls",
          "model_name": "FloatProgressModel",
          "state": {
            "_view_name": "ProgressView",
            "style": "IPY_MODEL_9cfc428589df476eb3f372e85bc2bda6",
            "_dom_classes": [],
            "description": "100%",
            "_model_name": "FloatProgressModel",
            "bar_style": "success",
            "max": 704,
            "_view_module": "@jupyter-widgets/controls",
            "_model_module_version": "1.5.0",
            "value": 704,
            "_view_count": null,
            "_view_module_version": "1.5.0",
            "orientation": "horizontal",
            "min": 0,
            "description_tooltip": null,
            "_model_module": "@jupyter-widgets/controls",
            "layout": "IPY_MODEL_95b139fcfcd6477eb36d5c2f0f62a1d3"
          }
        },
        "8e820020c0b1490986d3326a24d240a0": {
          "model_module": "@jupyter-widgets/controls",
          "model_name": "HTMLModel",
          "state": {
            "_view_name": "HTMLView",
            "style": "IPY_MODEL_453080ba652349c0a0e5630ff47c5399",
            "_dom_classes": [],
            "description": "",
            "_model_name": "HTMLModel",
            "placeholder": "​",
            "_view_module": "@jupyter-widgets/controls",
            "_model_module_version": "1.5.0",
            "value": " 704/704 [05:10&lt;00:00,  2.26it/s]",
            "_view_count": null,
            "_view_module_version": "1.5.0",
            "description_tooltip": null,
            "_model_module": "@jupyter-widgets/controls",
            "layout": "IPY_MODEL_2237c7ed285c49f68cd5c8df7030bb9a"
          }
        },
        "9cfc428589df476eb3f372e85bc2bda6": {
          "model_module": "@jupyter-widgets/controls",
          "model_name": "ProgressStyleModel",
          "state": {
            "_view_name": "StyleView",
            "_model_name": "ProgressStyleModel",
            "description_width": "initial",
            "_view_module": "@jupyter-widgets/base",
            "_model_module_version": "1.5.0",
            "_view_count": null,
            "_view_module_version": "1.2.0",
            "bar_color": null,
            "_model_module": "@jupyter-widgets/controls"
          }
        },
        "95b139fcfcd6477eb36d5c2f0f62a1d3": {
          "model_module": "@jupyter-widgets/base",
          "model_name": "LayoutModel",
          "state": {
            "_view_name": "LayoutView",
            "grid_template_rows": null,
            "right": null,
            "justify_content": null,
            "_view_module": "@jupyter-widgets/base",
            "overflow": null,
            "_model_module_version": "1.2.0",
            "_view_count": null,
            "flex_flow": null,
            "width": null,
            "min_width": null,
            "border": null,
            "align_items": null,
            "bottom": null,
            "_model_module": "@jupyter-widgets/base",
            "top": null,
            "grid_column": null,
            "overflow_y": null,
            "overflow_x": null,
            "grid_auto_flow": null,
            "grid_area": null,
            "grid_template_columns": null,
            "flex": null,
            "_model_name": "LayoutModel",
            "justify_items": null,
            "grid_row": null,
            "max_height": null,
            "align_content": null,
            "visibility": null,
            "align_self": null,
            "height": null,
            "min_height": null,
            "padding": null,
            "grid_auto_rows": null,
            "grid_gap": null,
            "max_width": null,
            "order": null,
            "_view_module_version": "1.2.0",
            "grid_template_areas": null,
            "object_position": null,
            "object_fit": null,
            "grid_auto_columns": null,
            "margin": null,
            "display": null,
            "left": null
          }
        },
        "453080ba652349c0a0e5630ff47c5399": {
          "model_module": "@jupyter-widgets/controls",
          "model_name": "DescriptionStyleModel",
          "state": {
            "_view_name": "StyleView",
            "_model_name": "DescriptionStyleModel",
            "description_width": "",
            "_view_module": "@jupyter-widgets/base",
            "_model_module_version": "1.5.0",
            "_view_count": null,
            "_view_module_version": "1.2.0",
            "_model_module": "@jupyter-widgets/controls"
          }
        },
        "2237c7ed285c49f68cd5c8df7030bb9a": {
          "model_module": "@jupyter-widgets/base",
          "model_name": "LayoutModel",
          "state": {
            "_view_name": "LayoutView",
            "grid_template_rows": null,
            "right": null,
            "justify_content": null,
            "_view_module": "@jupyter-widgets/base",
            "overflow": null,
            "_model_module_version": "1.2.0",
            "_view_count": null,
            "flex_flow": null,
            "width": null,
            "min_width": null,
            "border": null,
            "align_items": null,
            "bottom": null,
            "_model_module": "@jupyter-widgets/base",
            "top": null,
            "grid_column": null,
            "overflow_y": null,
            "overflow_x": null,
            "grid_auto_flow": null,
            "grid_area": null,
            "grid_template_columns": null,
            "flex": null,
            "_model_name": "LayoutModel",
            "justify_items": null,
            "grid_row": null,
            "max_height": null,
            "align_content": null,
            "visibility": null,
            "align_self": null,
            "height": null,
            "min_height": null,
            "padding": null,
            "grid_auto_rows": null,
            "grid_gap": null,
            "max_width": null,
            "order": null,
            "_view_module_version": "1.2.0",
            "grid_template_areas": null,
            "object_position": null,
            "object_fit": null,
            "grid_auto_columns": null,
            "margin": null,
            "display": null,
            "left": null
          }
        },
        "e180cfca013c47d8862dd27e1c7d453d": {
          "model_module": "@jupyter-widgets/controls",
          "model_name": "HBoxModel",
          "state": {
            "_view_name": "HBoxView",
            "_dom_classes": [],
            "_model_name": "HBoxModel",
            "_view_module": "@jupyter-widgets/controls",
            "_model_module_version": "1.5.0",
            "_view_count": null,
            "_view_module_version": "1.5.0",
            "box_style": "",
            "layout": "IPY_MODEL_1c471967c8b34cd786732c0cfb2c0543",
            "_model_module": "@jupyter-widgets/controls",
            "children": [
              "IPY_MODEL_1e4bf1921c1e4212ac34960082a0fbaf",
              "IPY_MODEL_e5a52b430c5147bf8ee1b178ecb18b9a"
            ]
          }
        },
        "1c471967c8b34cd786732c0cfb2c0543": {
          "model_module": "@jupyter-widgets/base",
          "model_name": "LayoutModel",
          "state": {
            "_view_name": "LayoutView",
            "grid_template_rows": null,
            "right": null,
            "justify_content": null,
            "_view_module": "@jupyter-widgets/base",
            "overflow": null,
            "_model_module_version": "1.2.0",
            "_view_count": null,
            "flex_flow": null,
            "width": null,
            "min_width": null,
            "border": null,
            "align_items": null,
            "bottom": null,
            "_model_module": "@jupyter-widgets/base",
            "top": null,
            "grid_column": null,
            "overflow_y": null,
            "overflow_x": null,
            "grid_auto_flow": null,
            "grid_area": null,
            "grid_template_columns": null,
            "flex": null,
            "_model_name": "LayoutModel",
            "justify_items": null,
            "grid_row": null,
            "max_height": null,
            "align_content": null,
            "visibility": null,
            "align_self": null,
            "height": null,
            "min_height": null,
            "padding": null,
            "grid_auto_rows": null,
            "grid_gap": null,
            "max_width": null,
            "order": null,
            "_view_module_version": "1.2.0",
            "grid_template_areas": null,
            "object_position": null,
            "object_fit": null,
            "grid_auto_columns": null,
            "margin": null,
            "display": null,
            "left": null
          }
        },
        "1e4bf1921c1e4212ac34960082a0fbaf": {
          "model_module": "@jupyter-widgets/controls",
          "model_name": "FloatProgressModel",
          "state": {
            "_view_name": "ProgressView",
            "style": "IPY_MODEL_2288ee23c968428abdb2db37cadbf56f",
            "_dom_classes": [],
            "description": "100%",
            "_model_name": "FloatProgressModel",
            "bar_style": "success",
            "max": 704,
            "_view_module": "@jupyter-widgets/controls",
            "_model_module_version": "1.5.0",
            "value": 704,
            "_view_count": null,
            "_view_module_version": "1.5.0",
            "orientation": "horizontal",
            "min": 0,
            "description_tooltip": null,
            "_model_module": "@jupyter-widgets/controls",
            "layout": "IPY_MODEL_f9a0439a888341188c6b64f3a28d7496"
          }
        },
        "e5a52b430c5147bf8ee1b178ecb18b9a": {
          "model_module": "@jupyter-widgets/controls",
          "model_name": "HTMLModel",
          "state": {
            "_view_name": "HTMLView",
            "style": "IPY_MODEL_37ff03492c2a413190ba4f241e3ebe95",
            "_dom_classes": [],
            "description": "",
            "_model_name": "HTMLModel",
            "placeholder": "​",
            "_view_module": "@jupyter-widgets/controls",
            "_model_module_version": "1.5.0",
            "value": " 704/704 [01:44&lt;00:00,  6.77it/s]",
            "_view_count": null,
            "_view_module_version": "1.5.0",
            "description_tooltip": null,
            "_model_module": "@jupyter-widgets/controls",
            "layout": "IPY_MODEL_dcaea0bc946c408c9dc96df5e4a6fc6a"
          }
        },
        "2288ee23c968428abdb2db37cadbf56f": {
          "model_module": "@jupyter-widgets/controls",
          "model_name": "ProgressStyleModel",
          "state": {
            "_view_name": "StyleView",
            "_model_name": "ProgressStyleModel",
            "description_width": "initial",
            "_view_module": "@jupyter-widgets/base",
            "_model_module_version": "1.5.0",
            "_view_count": null,
            "_view_module_version": "1.2.0",
            "bar_color": null,
            "_model_module": "@jupyter-widgets/controls"
          }
        },
        "f9a0439a888341188c6b64f3a28d7496": {
          "model_module": "@jupyter-widgets/base",
          "model_name": "LayoutModel",
          "state": {
            "_view_name": "LayoutView",
            "grid_template_rows": null,
            "right": null,
            "justify_content": null,
            "_view_module": "@jupyter-widgets/base",
            "overflow": null,
            "_model_module_version": "1.2.0",
            "_view_count": null,
            "flex_flow": null,
            "width": null,
            "min_width": null,
            "border": null,
            "align_items": null,
            "bottom": null,
            "_model_module": "@jupyter-widgets/base",
            "top": null,
            "grid_column": null,
            "overflow_y": null,
            "overflow_x": null,
            "grid_auto_flow": null,
            "grid_area": null,
            "grid_template_columns": null,
            "flex": null,
            "_model_name": "LayoutModel",
            "justify_items": null,
            "grid_row": null,
            "max_height": null,
            "align_content": null,
            "visibility": null,
            "align_self": null,
            "height": null,
            "min_height": null,
            "padding": null,
            "grid_auto_rows": null,
            "grid_gap": null,
            "max_width": null,
            "order": null,
            "_view_module_version": "1.2.0",
            "grid_template_areas": null,
            "object_position": null,
            "object_fit": null,
            "grid_auto_columns": null,
            "margin": null,
            "display": null,
            "left": null
          }
        },
        "37ff03492c2a413190ba4f241e3ebe95": {
          "model_module": "@jupyter-widgets/controls",
          "model_name": "DescriptionStyleModel",
          "state": {
            "_view_name": "StyleView",
            "_model_name": "DescriptionStyleModel",
            "description_width": "",
            "_view_module": "@jupyter-widgets/base",
            "_model_module_version": "1.5.0",
            "_view_count": null,
            "_view_module_version": "1.2.0",
            "_model_module": "@jupyter-widgets/controls"
          }
        },
        "dcaea0bc946c408c9dc96df5e4a6fc6a": {
          "model_module": "@jupyter-widgets/base",
          "model_name": "LayoutModel",
          "state": {
            "_view_name": "LayoutView",
            "grid_template_rows": null,
            "right": null,
            "justify_content": null,
            "_view_module": "@jupyter-widgets/base",
            "overflow": null,
            "_model_module_version": "1.2.0",
            "_view_count": null,
            "flex_flow": null,
            "width": null,
            "min_width": null,
            "border": null,
            "align_items": null,
            "bottom": null,
            "_model_module": "@jupyter-widgets/base",
            "top": null,
            "grid_column": null,
            "overflow_y": null,
            "overflow_x": null,
            "grid_auto_flow": null,
            "grid_area": null,
            "grid_template_columns": null,
            "flex": null,
            "_model_name": "LayoutModel",
            "justify_items": null,
            "grid_row": null,
            "max_height": null,
            "align_content": null,
            "visibility": null,
            "align_self": null,
            "height": null,
            "min_height": null,
            "padding": null,
            "grid_auto_rows": null,
            "grid_gap": null,
            "max_width": null,
            "order": null,
            "_view_module_version": "1.2.0",
            "grid_template_areas": null,
            "object_position": null,
            "object_fit": null,
            "grid_auto_columns": null,
            "margin": null,
            "display": null,
            "left": null
          }
        }
      }
    }
  },
  "cells": [
    {
      "cell_type": "markdown",
      "metadata": {
        "id": "40_N7tmLpcAu"
      },
      "source": [
        "# CIFAR-10 classification\n",
        "## 1. Baseline\n",
        "### 1.1.  import libraries and define hyperparameters"
      ]
    },
    {
      "cell_type": "code",
      "metadata": {
        "id": "NoLy4X_9pcAv",
        "colab": {
          "base_uri": "https://localhost:8080/"
        },
        "outputId": "74baa5d5-1ff6-4bf3-9a42-2c952b02a13a"
      },
      "source": [
        "!pip -q install cleverhans\n",
        "!pip -q install linformer\n",
        "!pip -q install ptflops\n",
        "!pip -q install vit_pytorch"
      ],
      "execution_count": null,
      "outputs": [
        {
          "output_type": "stream",
          "text": [
            "\u001b[K     |████████████████████████████████| 327kB 3.0MB/s \n",
            "\u001b[K     |████████████████████████████████| 163kB 14.2MB/s \n",
            "\u001b[K     |████████████████████████████████| 51kB 5.8MB/s \n",
            "\u001b[?25h  Building wheel for ptflops (setup.py) ... \u001b[?25l\u001b[?25hdone\n"
          ],
          "name": "stdout"
        }
      ]
    },
    {
      "cell_type": "code",
      "metadata": {
        "id": "f98I5ac2pcAv"
      },
      "source": [
        "from cleverhans.torch.attacks.fast_gradient_method import fast_gradient_method\n",
        "from cleverhans.torch.attacks.projected_gradient_descent import (\n",
        "    projected_gradient_descent,\n",
        ")\n",
        "from linformer import Linformer\n",
        "import matplotlib.pyplot as plt \n",
        "import numpy as np\n",
        "import os \n",
        "from ptflops import get_model_complexity_info\n",
        "import random\n",
        "import torch\n",
        "from torch import nn\n",
        "from torchvision.models import resnet34, resnet101, mobilenet_v2\n",
        "import torchvision\n",
        "import torchvision.transforms as transforms\n",
        "from tqdm.notebook import tqdm\n",
        "from vit_pytorch.efficient import ViT"
      ],
      "execution_count": 13,
      "outputs": []
    },
    {
      "cell_type": "code",
      "metadata": {
        "id": "pqklNhHOpcAw"
      },
      "source": [
        "def seed_everything(seed):\n",
        "    random.seed(seed)\n",
        "    os.environ['PYTHONHASHSEED'] = str(seed)\n",
        "    np.random.seed(seed)\n",
        "    torch.manual_seed(seed)\n",
        "    torch.cuda.manual_seed(seed)\n",
        "    torch.cuda.manual_seed_all(seed)\n",
        "    torch.backends.cudnn.deterministic = True\n",
        "\n",
        "seed = 42\n",
        "seed_everything(seed)"
      ],
      "execution_count": 14,
      "outputs": []
    },
    {
      "cell_type": "code",
      "metadata": {
        "id": "jB-dco1GpcAw"
      },
      "source": [
        "device = 'cuda'"
      ],
      "execution_count": 15,
      "outputs": []
    },
    {
      "cell_type": "code",
      "metadata": {
        "id": "7rjNlOwTpcAw"
      },
      "source": [
        "batch_size = 64\n",
        "epochs = 5\n",
        "lr = 3e-5\n",
        "gamma = 0.7"
      ],
      "execution_count": 19,
      "outputs": []
    },
    {
      "cell_type": "markdown",
      "metadata": {
        "id": "o5yWkt1RpcAx"
      },
      "source": [
        "### 1.2. load and normalize CIFAR-10"
      ]
    },
    {
      "cell_type": "code",
      "metadata": {
        "id": "eXJzt4qqpcAx"
      },
      "source": [
        "transform_train = transforms.Compose([\n",
        "    torchvision.transforms.RandomCrop(4),\n",
        "    transforms.RandomResizedCrop(32),\n",
        "    transforms.RandomHorizontalFlip(),\n",
        "    transforms.ToTensor(),\n",
        "    transforms.Normalize((0.4914, 0.4822, 0.4465), (0.2023, 0.1994, 0.2010)),\n",
        "    transforms.RandomRotation(15)\n",
        "])\n",
        "\n",
        "transform_test = transforms.Compose([\n",
        "    transforms.ToTensor(),\n",
        "    transforms.Normalize((0.4914, 0.4822, 0.4465), (0.2023, 0.1994, 0.2010)),\n",
        "])"
      ],
      "execution_count": 20,
      "outputs": []
    },
    {
      "cell_type": "code",
      "metadata": {
        "id": "hHDX9LgEpcAy",
        "colab": {
          "base_uri": "https://localhost:8080/",
          "height": 116,
          "referenced_widgets": [
            "b2c8082711c144068bf8c0fa0e58127c",
            "2eca9f5c417446a3905b4ea931c525cd",
            "e5d1152e29e94522940645c8cf87ad85",
            "a42c61734a6c41b0a0c6dc24e666fa4d",
            "3e8fce9e5d944be6a64657b7419c7162",
            "8974f181597843a89bc28f1856843d53",
            "92d28e0fd3b142fba6084bde623c41e4",
            "594dff4d84aa40f280125c3f4b2ad00d"
          ]
        },
        "outputId": "2bf640dc-321c-4d62-af12-6e0f3059cf29"
      },
      "source": [
        "dataset = torchvision.datasets.CIFAR10(root='./data', train=True,\n",
        "                                        download=True, transform=transform_train)\n",
        "trainset, valset = torch.utils.data.random_split(dataset, [45000, 5000])\n",
        "train_loader = torch.utils.data.DataLoader(trainset, batch_size=batch_size,\n",
        "                                          shuffle=True, num_workers=2)\n",
        "valid_loader = torch.utils.data.DataLoader(valset, batch_size=batch_size,\n",
        "                                        shuffle=True, num_workers=2)\n",
        "testset = torchvision.datasets.CIFAR10(root='./data', train=False,\n",
        "                                       download=True, transform=transform_test)\n",
        "test_loader = torch.utils.data.DataLoader(testset, batch_size=batch_size,\n",
        "                                         shuffle=False, num_workers=2)\n",
        "\n",
        "classes = ('plane', 'car', 'bird', 'cat',\n",
        "           'deer', 'dog', 'frog', 'horse', 'ship', 'truck')"
      ],
      "execution_count": 21,
      "outputs": [
        {
          "output_type": "stream",
          "name": "stdout",
          "text": [
            "Files already downloaded and verified\n",
            "Files already downloaded and verified\n"
          ]
        }
      ]
    },
    {
      "cell_type": "markdown",
      "metadata": {
        "id": "j2kXfgWnpcAz"
      },
      "source": [
        "### 1.3. define a transformer"
      ]
    },
    {
      "cell_type": "code",
      "metadata": {
        "id": "zxbAADHypcAz",
        "colab": {
          "base_uri": "https://localhost:8080/",
          "height": 82,
          "referenced_widgets": [
            "ccb3244c90b94a1fa8af04b05a2bb727",
            "e9e872792c39420e800b5cfa1d80e756",
            "c39532b6c54249bf99de9660d912e599",
            "ab44bf5e493a42c58fc7ba984ccab50f",
            "3358689743314c1280ded78737b093d3",
            "3393922492964a46857f55cabaebe837",
            "c110eefb59d0409eac04315fd84318ac",
            "a2a291f6f1f74be6a0790be208296274"
          ]
        },
        "outputId": "c3e2cdc8-adde-41db-9176-fae0d6222de9"
      },
      "source": [
        "class ResNetFeatures(nn.Module):\n",
        "    '''\n",
        "    ResNetFeatures outputs the lower level features from pretrained ResNet34 till the intial 5 layers \n",
        "    (conv1, bn1, relu, maxpool, layer1(3 conv layers)) to be used in the hybrid architecture to be \n",
        "    able to kickstart the learining faster. The sequence of operations is as follows :-\n",
        "\n",
        "    Input -> conv1 -> bn1 -> relu -> maxpool -> layer1 -> Output\n",
        "\n",
        "    Args:\n",
        "        No arguments required\n",
        "    \n",
        "    Methods:\n",
        "        forward(inp) :-\n",
        "        Applies the sequence of operations mentioned above.\n",
        "        (batch_size, 3, 224, 224) -> (batch_size, 64, 56, 56)\n",
        "    \n",
        "    Examples:\n",
        "        >>> resnet_features = ResNetFeatures()\n",
        "        >>> out = resnet_features(inp)\n",
        "    '''\n",
        "    def __init__(self):\n",
        "        super(ResNetFeatures, self).__init__()\n",
        "        layers = list(resnet34(pretrained=True).children())[:5] #all layer expect last layer\n",
        "        self.feature_extractor = nn.Sequential(*layers)\n",
        "        \n",
        "    def forward(self, inp):\n",
        "        # inp: (batch_size, 3, 224, 224)\n",
        "\n",
        "        out = self.feature_extractor(inp)\n",
        "\n",
        "        # out: (batch_size, 64, 56, 56)\n",
        "        return out\n",
        "\n",
        "class HybridViT(nn.Module):\n",
        "    def __init__(self, image_size=32, patch_size=4, num_classes=10, dim=128, depth=10, channels=3, heads=8, k=64 ):\n",
        "        super(HybridViT,self).__init__()\n",
        "        self.ResNetFeatures = ResNetFeatures()\n",
        "        self.image_size = image_size // 4\n",
        "        self.patch_size = self.image_size // (image_size // patch_size)\n",
        "        self.channels=64\n",
        "        efficient_transformer = Linformer(\n",
        "            dim=dim,\n",
        "            seq_len=(image_size//patch_size)**2+1,\n",
        "            depth=depth,\n",
        "            heads=heads,\n",
        "            k=k\n",
        "        )\n",
        "        self.ViT = ViT(\n",
        "            dim=128,\n",
        "            image_size=self.image_size,\n",
        "            patch_size=self.patch_size,\n",
        "            num_classes=num_classes,\n",
        "            transformer=efficient_transformer,\n",
        "            channels=self.channels,\n",
        "        )\n",
        "        \n",
        "    def forward(self, img):\n",
        "        x = self.ResNetFeatures(img)\n",
        "        x = self.ViT(x)\n",
        "        return x\n",
        "\n",
        "model = HybridViT(\n",
        "    image_size=32,\n",
        "    patch_size=4,\n",
        "    num_classes=10,\n",
        "    dim=128,\n",
        "    depth=10,\n",
        "    channels=3,\n",
        "    heads=8,\n",
        "    k=64\n",
        ").to(device)"
      ],
      "execution_count": 22,
      "outputs": []
    },
    {
      "cell_type": "markdown",
      "metadata": {
        "id": "ifP6Qii9pcAz"
      },
      "source": [
        "Let's see the parameter numbers and FLOPs of Hybrid ViT"
      ]
    },
    {
      "cell_type": "code",
      "metadata": {
        "id": "SyO7pwFjpcA0",
        "colab": {
          "base_uri": "https://localhost:8080/"
        },
        "outputId": "040594be-6c80-456e-db8f-f71bec033992"
      },
      "source": [
        "macs, params = get_model_complexity_info(model, (3, 32, 32), as_strings=True,\n",
        "                                        print_per_layer_stat=False, verbose=True)\n",
        "print('{:<30}  {:<8}'.format('Computational complexity: ', macs))\n",
        "print('{:<30}  {:<8}'.format('Number of parameters: ', params))"
      ],
      "execution_count": 23,
      "outputs": [
        {
          "output_type": "stream",
          "name": "stdout",
          "text": [
            "Warning: module BasicBlock is treated as a zero-op.\n",
            "Warning: module ResNetFeatures is treated as a zero-op.\n",
            "Warning: module Rearrange is treated as a zero-op.\n",
            "Warning: module Dropout is treated as a zero-op.\n",
            "Warning: module LinformerSelfAttention is treated as a zero-op.\n",
            "Warning: module LayerNorm is treated as a zero-op.\n",
            "Warning: module PreNorm is treated as a zero-op.\n",
            "Warning: module GELU is treated as a zero-op.\n",
            "Warning: module FeedForward is treated as a zero-op.\n",
            "Warning: module SequentialSequence is treated as a zero-op.\n",
            "Warning: module Linformer is treated as a zero-op.\n",
            "Warning: module Identity is treated as a zero-op.\n",
            "Warning: module ViT is treated as a zero-op.\n",
            "Warning: module HybridViT is treated as a zero-op.\n",
            "Computational complexity:       0.15 GMac\n",
            "Number of parameters:           2.31 M  \n"
          ]
        }
      ]
    },
    {
      "cell_type": "markdown",
      "metadata": {
        "id": "69F1ekcUpcA0"
      },
      "source": [
        "### 1.4. Let's start our training!"
      ]
    },
    {
      "cell_type": "code",
      "metadata": {
        "id": "pTo0OL97pcA1"
      },
      "source": [
        "# loss function\n",
        "criterion = torch.nn.CrossEntropyLoss()\n",
        "# optimizer\n",
        "optimizer = torch.optim.Adam(model.parameters(), lr=lr)\n",
        "# scheduler\n",
        "scheduler = torch.optim.lr_scheduler.StepLR(optimizer, step_size=2, gamma=gamma)"
      ],
      "execution_count": 24,
      "outputs": []
    },
    {
      "cell_type": "code",
      "metadata": {
        "id": "-OoMVeGSpcA1"
      },
      "source": [
        "loss_record = {'train': [], 'validation': []} \n",
        "acc_record = {'train': [], 'validation': []} "
      ],
      "execution_count": 25,
      "outputs": []
    },
    {
      "cell_type": "code",
      "metadata": {
        "id": "uNJK5m9fpcA1"
      },
      "source": [
        "def train(epochs, model, train_loader, valid_loader, loss_record, acc_record, criterion, optimizer, adv_train=False):\n",
        "    for epoch in range(epochs):\n",
        "        epoch_loss = 0\n",
        "        epoch_accuracy = 0\n",
        "        print(\"current lr = %lf\"%optimizer.param_groups[0]['lr'])\n",
        "\n",
        "        for data, label in tqdm(train_loader):\n",
        "            data = data.to(device)\n",
        "            label = label.to(device)\n",
        "            if adv_train:\n",
        "                # Replace clean example with adversarial example for adversarial training\n",
        "                data = projected_gradient_descent(model, data, 0.3, 0.01, 40, np.inf)\n",
        "            output = model(data)\n",
        "            loss = criterion(output, label)\n",
        "\n",
        "            optimizer.zero_grad()\n",
        "            loss.backward()\n",
        "            optimizer.step()\n",
        "            \n",
        "            acc = (output.argmax(dim=1) == label).float().mean()\n",
        "            epoch_accuracy += acc / len(train_loader)\n",
        "            epoch_loss += loss / len(train_loader)\n",
        "\n",
        "        loss_record['train'].append(epoch_loss.detach().cpu().item())\n",
        "        acc_record['train'].append(epoch_accuracy.detach().cpu().item())\n",
        "        \n",
        "        #scheduler.step()\n",
        "\n",
        "        with torch.no_grad():\n",
        "            epoch_val_accuracy = 0\n",
        "            epoch_val_loss = 0\n",
        "            for data, label in valid_loader:\n",
        "                data = data.to(device)\n",
        "                label = label.to(device)\n",
        "\n",
        "                val_output = model(data)\n",
        "                val_loss = criterion(val_output, label)\n",
        "\n",
        "                acc = (val_output.argmax(dim=1) == label).float().mean()\n",
        "                epoch_val_accuracy += acc / len(valid_loader)\n",
        "                epoch_val_loss += val_loss / len(valid_loader)\n",
        "            loss_record['validation'].append(epoch_val_loss.detach().cpu().item())\n",
        "            acc_record['validation'].append(epoch_val_accuracy.detach().cpu().item())\n",
        "\n",
        "        print(\n",
        "            f\"Epoch : {epoch+1} - loss : {epoch_loss:.4f} - acc: {epoch_accuracy:.4f} - val_loss : {epoch_val_loss:.4f} - val_acc: {epoch_val_accuracy:.4f}\\n\"\n",
        "        )"
      ],
      "execution_count": 26,
      "outputs": []
    },
    {
      "cell_type": "code",
      "metadata": {
        "id": "gxqe41ZapcA2",
        "colab": {
          "base_uri": "https://localhost:8080/",
          "height": 513,
          "referenced_widgets": [
            "443ba3c536cc40fb895ce68c67c1eee9",
            "1c1777e1af214b5b80facd80f941b40b",
            "3cd8b8102c43428da43d323c91e4355a",
            "121d5ceb785d4cd3b6085ace3b5dd9b6",
            "7d9e6a9c7e494b4589eaa560c927d401",
            "2c1ef0631bd047ecb3b066c80b343873",
            "1c1284214bd041a5b9c3a0eefc48ed63",
            "d6d2931c7b07416da3c6629750c86b8e",
            "699a04399bd14404a77c1982a9c5e6bf",
            "05d9063441b249f09cfdf7f755dae76b",
            "367c32c0d2bd47f3bafba3a14a2a997a",
            "74e5a488758d48dcb9fdac04d9daf7bd",
            "557c08cbe5c44a1db5fd33c1d04c7401",
            "b89c441ac8ab44ddbd5cbc7039bdd9b4",
            "a638c60a211b4750a3240c77d3e34d50",
            "64a1375af89348cfbfcf8d2ed8e69e73",
            "e045eb24c4f549908e03c3cdcc55f625",
            "502aafc2e94949549c801d9c301a2a93",
            "23b3c00287c6465fa5953f9549ac3551",
            "33b10e418ed34189bb1b531fccf8ec56",
            "e6c32b0b08914daca823e7b50d310929",
            "b97b4d546a424302bdc252b190c47ee4",
            "a6e6c15b159a4514af69b3a8fd4fcf0a",
            "1a06d2cd019849ada388ad6600231f62",
            "1d61d32d94ba407891f4c63ffbf1b994",
            "c23e4c33a3e04eb1ad8d12f8a60e65ed",
            "a7f12928c09248e08ca690358d892a6b",
            "86b10d83fd1347f8b550aa52509e06a5",
            "c11c054418714838a1f614c7b0e06a3a",
            "9145859afba4497f93ba6f4e9bcf8396",
            "65dd71006fb64478992642bd6cb4cf95",
            "1830c7a370524f47a97c208b54fa46c3",
            "6af4a616aab7475fa249806e85b4af46",
            "6f9da0c251844586aca8c483488986fc",
            "074aaa8713c845578003af816e1bcaf6",
            "ea43ecae27e34285a27685be56770b3b",
            "2aec63a0b6c84cdabfc6e9ecf16acfaf",
            "5bee2034901e44a49312a15d9ed8adcb",
            "26f81a4a37b24e629295e58fc512f08c",
            "ee70669c95594a49887a6cf54754bfe4"
          ]
        },
        "outputId": "b31fc859-ca81-49f7-c480-773796e64fda"
      },
      "source": [
        "train(epochs, model, train_loader, valid_loader, loss_record, acc_record, criterion, optimizer)"
      ],
      "execution_count": 27,
      "outputs": [
        {
          "output_type": "stream",
          "name": "stdout",
          "text": [
            "current lr = 0.000030\n"
          ]
        },
        {
          "output_type": "display_data",
          "data": {
            "text/plain": "HBox(children=(HTML(value=''), FloatProgress(value=0.0, max=704.0), HTML(value='')))",
            "application/vnd.jupyter.widget-view+json": {
              "version_major": 2,
              "version_minor": 0,
              "model_id": "4f6310db1ac748bea57cc3a8b641b873"
            }
          },
          "metadata": {}
        }
      ]
    },
    {
      "cell_type": "code",
      "metadata": {
        "id": "5O5MbYeDpcA2"
      },
      "source": [
        "def plot_loss_curve(record, title=''):\n",
        "    ''' Plot learning curve of your DNN (train & dev loss) '''\n",
        "    total_steps = len(record['train'])\n",
        "    x = range(total_steps)\n",
        "    plt.figure(figsize=[6, 4])\n",
        "    plt.plot(x, record['train'], c='tab:red', label='train')\n",
        "    plt.plot(x, record['validation'], c='tab:cyan', label='validation')\n",
        "    plt.ylim(2,2.5)\n",
        "    plt.xlabel('epoches')\n",
        "    plt.ylabel('crossEntropy loss')\n",
        "    plt.title('Loss curve of {}'.format(title))\n",
        "    plt.legend()\n",
        "    plt.show()\n",
        "\n",
        "def plot_acc_curve(record, title=''):\n",
        "    ''' Plot learning curve of your DNN (train & dev loss) '''\n",
        "    total_steps = len(record['train'])\n",
        "    x = range(total_steps)\n",
        "    plt.figure(figsize=[6, 4])\n",
        "    plt.plot(x, record['train'], c='tab:red', label='train')\n",
        "    plt.plot(x, record['validation'], c='tab:cyan', label='validation')\n",
        "    plt.ylim(0.18,1)\n",
        "    plt.xlabel('epoches')\n",
        "    plt.ylabel('crossEntropy loss')\n",
        "    plt.title('Accurary curve of {}'.format(title))\n",
        "    plt.legend()\n",
        "    plt.show()\n"
      ],
      "execution_count": null,
      "outputs": []
    },
    {
      "cell_type": "code",
      "metadata": {
        "id": "6dZfxfNEpcA2",
        "colab": {
          "base_uri": "https://localhost:8080/",
          "height": 295
        },
        "outputId": "a4de7372-620f-419a-d66c-8a1d50dd6443"
      },
      "source": [
        "plot_loss_curve(loss_record, title='HybridViT')"
      ],
      "execution_count": null,
      "outputs": [
        {
          "output_type": "display_data",
          "data": {
            "image/png": "[encoded data removed]",
            "text/plain": [
              "<Figure size 432x288 with 1 Axes>"
            ]
          },
          "metadata": {
            "tags": [],
            "needs_background": "light"
          }
        }
      ]
    },
    {
      "cell_type": "code",
      "metadata": {
        "id": "wN8Bfr2YpcA2",
        "colab": {
          "base_uri": "https://localhost:8080/",
          "height": 295
        },
        "outputId": "4ebbd0b4-71f1-4c5b-e401-23c2ccf2a606"
      },
      "source": [
        "plot_acc_curve(acc_record, title='HybridViT')"
      ],
      "execution_count": null,
      "outputs": [
        {
          "output_type": "display_data",
          "data": {
            "image/png": "[encoded data removed]",
            "text/plain": [
              "<Figure size 432x288 with 1 Axes>"
            ]
          },
          "metadata": {
            "tags": [],
            "needs_background": "light"
          }
        }
      ]
    },
    {
      "cell_type": "code",
      "metadata": {
        "id": "9kfKOm2HpcA3"
      },
      "source": [
        "def test(model, model_name, test_loader):\n",
        "    correct = 0\n",
        "    correct_fgm = 0\n",
        "    correct_pgd = 0\n",
        "    total = 0\n",
        "    # since we're not training, we don't need to calculate the gradients for our outputs\n",
        "    model.eval()\n",
        "    for data in test_loader:\n",
        "        images, labels = data\n",
        "        images, labels = images.to(device), labels.to(device)\n",
        "        images_fgm = fast_gradient_method(model, images, 0.3, np.inf)\n",
        "        images_pgd = projected_gradient_descent(model, images, 0.3, 0.01, 40, np.inf)\n",
        "        # calculate outputs by running images through the network\n",
        "        outputs = model(images)\n",
        "        outputs_fgm = model(images_fgm)\n",
        "        outputs_pgd = model(images_pgd)\n",
        "        # the class with the highest energy is what we choose as prediction\n",
        "        _, predicted = torch.max(outputs.data, 1)\n",
        "        _, predicted_fgm = torch.max(outputs_fgm.data, 1)\n",
        "        _, predicted_pgd = torch.max(outputs_pgd.data, 1)\n",
        "        total += labels.size(0)\n",
        "        correct += (predicted == labels).sum().item()\n",
        "        correct_fgm += (predicted_fgm == labels).sum().item()\n",
        "        correct_pgd += (predicted_pgd == labels).sum().item()\n",
        "\n",
        "    print('Accuracy of the %s on the 10000 test images: %d %%' % (model_name,\n",
        "        100 * correct / total))\n",
        "    print('Accuracy of the %s on the 10000 FGM adversarial images: %d %%' % (model_name,\n",
        "        100 * correct / total))\n",
        "    print('Accuracy of the %s on the 10000 PFD adversarial images: %d %%' % (model_name,\n",
        "        100 * correct / total))"
      ],
      "execution_count": null,
      "outputs": []
    },
    {
      "cell_type": "code",
      "metadata": {
        "id": "qQ4E0YlgpcA3",
        "colab": {
          "base_uri": "https://localhost:8080/"
        },
        "outputId": "c196cb35-ffdf-4f61-9f69-6097d066610b"
      },
      "source": [
        "test(model, 'HybridViT', test_loader)"
      ],
      "execution_count": null,
      "outputs": [
        {
          "output_type": "stream",
          "text": [
            "Accuracy of the HybridViT on the 10000 test images: 22 %\n",
            "Accuracy of the HybridViT on the 10000 FGM adversarial images: 22 %\n",
            "Accuracy of the HybridViT on the 10000 PFD adversarial images: 22 %\n"
          ],
          "name": "stdout"
        }
      ]
    },
    {
      "cell_type": "code",
      "metadata": {
        "id": "rUHcFYHppcA3"
      },
      "source": [
        "PATH = './HybridViT.pth'\n",
        "torch.save(model.state_dict(), PATH)"
      ],
      "execution_count": null,
      "outputs": []
    },
    {
      "cell_type": "code",
      "metadata": {
        "id": "FxA-dde1pcA4",
        "outputId": "be6189cc-e2e8-488e-9b7b-fc502f2ba68e"
      },
      "source": [
        "#model.load_state_dict(torch.load(PATH))"
      ],
      "execution_count": null,
      "outputs": [
        {
          "output_type": "execute_result",
          "data": {
            "text/plain": [
              "<All keys matched successfully>"
            ]
          },
          "metadata": {
            "tags": []
          },
          "execution_count": 18
        }
      ]
    },
    {
      "cell_type": "markdown",
      "metadata": {
        "id": "ZrCehLLApcA4"
      },
      "source": [
        "## 2. Experienment 1: MobileNet-v2"
      ]
    },
    {
      "cell_type": "code",
      "metadata": {
        "id": "1O1b47MKwS-F"
      },
      "source": [
        "from torchvision.models import mobilenet_v2"
      ],
      "execution_count": null,
      "outputs": []
    },
    {
      "cell_type": "code",
      "metadata": {
        "id": "sZfjwY9EpcA4"
      },
      "source": [
        "class PretrainedMobileNet(nn.Module):\n",
        "    def __init__(self):\n",
        "        super(PretrainedMobileNet, self).__init__()\n",
        "        layers = list(mobilenet_v2(pretrained=True).children())[:-1] #all layer expect last layer\n",
        "        self.preHead = nn.Sequential(*layers)\n",
        "        self.fc = \n",
        "        \n",
        "    def forward(self, inp):\n",
        "        # inp: (batch_size, 3, 224, 224)\n",
        "\n",
        "        out = self.feature_extractor(inp)\n",
        "\n",
        "        # out: (batch_size, 64, 56, 56)\n",
        "        return out\n",
        "\n",
        "mobileNet = mobilenet_v2(num_classes=10).to(device)"
      ],
      "execution_count": null,
      "outputs": []
    },
    {
      "cell_type": "code",
      "metadata": {
        "id": "5GlfzXbwpcA4",
        "colab": {
          "base_uri": "https://localhost:8080/"
        },
        "outputId": "7b0d87f2-8e6d-4789-a50c-620a183bee80"
      },
      "source": [
        "macs, params = get_model_complexity_info(mobileNet, (3, 32, 32), as_strings=True,\n",
        "                                        print_per_layer_stat=False, verbose=True)\n",
        "print('{:<30}  {:<8}'.format('Computational complexity: ', macs))\n",
        "print('{:<30}  {:<8}'.format('Number of parameters: ', params))"
      ],
      "execution_count": null,
      "outputs": [
        {
          "output_type": "stream",
          "text": [
            "Warning: module Hardswish is treated as a zero-op.\n",
            "Warning: module ConvBNActivation is treated as a zero-op.\n",
            "Warning: module SqueezeExcitation is treated as a zero-op.\n",
            "Warning: module Identity is treated as a zero-op.\n",
            "Warning: module InvertedResidual is treated as a zero-op.\n",
            "Warning: module Dropout is treated as a zero-op.\n",
            "Warning: module MobileNetV3 is treated as a zero-op.\n",
            "Computational complexity:       0.0 GMac\n",
            "Number of parameters:           1.53 M  \n"
          ],
          "name": "stdout"
        }
      ]
    },
    {
      "cell_type": "code",
      "metadata": {
        "id": "b8y7WbyzpcA5"
      },
      "source": [
        "mobilenet_loss_record = {'train': [], 'validation': []} \n",
        "mobilenet_acc_record = {'train': [], 'validation': []} "
      ],
      "execution_count": null,
      "outputs": []
    },
    {
      "cell_type": "code",
      "metadata": {
        "id": "1yYzdCAVpcA5"
      },
      "source": [
        "mobilenet_opt = torch.optim.Adam(mobilenet.parameters(), lr=lr)\n",
        "mobilenet_epochs = epochs"
      ],
      "execution_count": null,
      "outputs": []
    },
    {
      "cell_type": "code",
      "metadata": {
        "id": "8LGE3AhRpcA5",
        "colab": {
          "base_uri": "https://localhost:8080/",
          "height": 513,
          "referenced_widgets": [
            "7b666ad635bd4d599560e31500fb7a8b",
            "b4e301c1b986443986d572013c169b9f",
            "4f7edde8820d400c862e4be7c913f342",
            "ef22955f74364001b8e5e6403579c5ea",
            "d81e99317d8547238d4ed63778ff33f9",
            "b2bb4749a8ca4fc7bbbe6c08ed269c07",
            "755aa3a6c75d4f85917a06f0d22e54e7",
            "85ccc167eed94bf38d2e4cb8ac8cf2b5",
            "e81e1757115f46ae8ce219734de0f76a",
            "11039e611562415881a28c96080b1771",
            "20056bd19c1b4a89a03c676949771b30",
            "49a37b7ca8934237a6d38616272f8893",
            "b1b8111dcff940e6acdadfe5606f755a",
            "34aed798772f4017a8fd8af6f4170afa",
            "f299edd0cddc4be19f7c08809106df48",
            "0fdcaa3015ca445d9a03a4863db9ffc1",
            "150bfa4407124bea97008d97b12fe732",
            "10dcbc2858594fc3a8e4ca86ddfb3068",
            "f87e9285412c42df89a65a2a119188a1",
            "eab5c3d467764a7c8a834ca887fa2d6f",
            "0f74faa564c346dcac894ac3efa42780",
            "b8151b9ae38247149f57577dc62b3281",
            "a4caf38298b44d38a7b555be8dedac7f",
            "50804a8e71454c1bb8813e4ce8e8adb4",
            "308701d70f304ca3b9449b2b24c0a595",
            "c2fd5c6e60b444cd8d537c63b06ca76e",
            "229bc502a6584d9ca3b6346051295ee6",
            "8e820020c0b1490986d3326a24d240a0",
            "9cfc428589df476eb3f372e85bc2bda6",
            "95b139fcfcd6477eb36d5c2f0f62a1d3",
            "453080ba652349c0a0e5630ff47c5399",
            "2237c7ed285c49f68cd5c8df7030bb9a",
            "e180cfca013c47d8862dd27e1c7d453d",
            "1c471967c8b34cd786732c0cfb2c0543",
            "1e4bf1921c1e4212ac34960082a0fbaf",
            "e5a52b430c5147bf8ee1b178ecb18b9a",
            "2288ee23c968428abdb2db37cadbf56f",
            "f9a0439a888341188c6b64f3a28d7496",
            "37ff03492c2a413190ba4f241e3ebe95",
            "dcaea0bc946c408c9dc96df5e4a6fc6a"
          ]
        },
        "outputId": "1af78d58-e27a-425d-9110-814cfaab9f51"
      },
      "source": [
        "train(epochs, mobileNet, train_loader, valid_loader, mobilenet_loss_record, mobilenet_acc_record, criterion, mobilenet_opt)"
      ],
      "execution_count": null,
      "outputs": [
        {
          "output_type": "stream",
          "text": [
            "current lr = 0.000300\n"
          ],
          "name": "stdout"
        },
        {
          "output_type": "display_data",
          "data": {
            "application/vnd.jupyter.widget-view+json": {
              "model_id": "7b666ad635bd4d599560e31500fb7a8b",
              "version_minor": 0,
              "version_major": 2
            },
            "text/plain": [
              "HBox(children=(FloatProgress(value=0.0, max=704.0), HTML(value='')))"
            ]
          },
          "metadata": {
            "tags": []
          }
        },
        {
          "output_type": "stream",
          "text": [
            "\n",
            "Epoch : 1 - loss : 2.3349 - acc: 0.1002 - val_loss : 2.3324 - val_acc: 0.0961\n",
            "\n",
            "current lr = 0.000300\n"
          ],
          "name": "stdout"
        },
        {
          "output_type": "display_data",
          "data": {
            "application/vnd.jupyter.widget-view+json": {
              "model_id": "e81e1757115f46ae8ce219734de0f76a",
              "version_minor": 0,
              "version_major": 2
            },
            "text/plain": [
              "HBox(children=(FloatProgress(value=0.0, max=704.0), HTML(value='')))"
            ]
          },
          "metadata": {
            "tags": []
          }
        },
        {
          "output_type": "stream",
          "text": [
            "\n",
            "Epoch : 2 - loss : 2.3324 - acc: 0.1032 - val_loss : 2.3327 - val_acc: 0.0934\n",
            "\n",
            "current lr = 0.000300\n"
          ],
          "name": "stdout"
        },
        {
          "output_type": "display_data",
          "data": {
            "application/vnd.jupyter.widget-view+json": {
              "model_id": "150bfa4407124bea97008d97b12fe732",
              "version_minor": 0,
              "version_major": 2
            },
            "text/plain": [
              "HBox(children=(FloatProgress(value=0.0, max=704.0), HTML(value='')))"
            ]
          },
          "metadata": {
            "tags": []
          }
        },
        {
          "output_type": "stream",
          "text": [
            "\n",
            "Epoch : 3 - loss : 2.3352 - acc: 0.0991 - val_loss : 2.3290 - val_acc: 0.0947\n",
            "\n",
            "current lr = 0.000300\n"
          ],
          "name": "stdout"
        },
        {
          "output_type": "display_data",
          "data": {
            "application/vnd.jupyter.widget-view+json": {
              "model_id": "308701d70f304ca3b9449b2b24c0a595",
              "version_minor": 0,
              "version_major": 2
            },
            "text/plain": [
              "HBox(children=(FloatProgress(value=0.0, max=704.0), HTML(value='')))"
            ]
          },
          "metadata": {
            "tags": []
          }
        },
        {
          "output_type": "stream",
          "text": [
            "\n",
            "Epoch : 4 - loss : 2.3328 - acc: 0.1017 - val_loss : 2.3304 - val_acc: 0.1048\n",
            "\n",
            "current lr = 0.000300\n"
          ],
          "name": "stdout"
        },
        {
          "output_type": "display_data",
          "data": {
            "application/vnd.jupyter.widget-view+json": {
              "model_id": "e180cfca013c47d8862dd27e1c7d453d",
              "version_minor": 0,
              "version_major": 2
            },
            "text/plain": [
              "HBox(children=(FloatProgress(value=0.0, max=704.0), HTML(value='')))"
            ]
          },
          "metadata": {
            "tags": []
          }
        },
        {
          "output_type": "stream",
          "text": [
            "\n",
            "Epoch : 5 - loss : 2.3337 - acc: 0.1010 - val_loss : 2.3308 - val_acc: 0.1034\n",
            "\n"
          ],
          "name": "stdout"
        }
      ]
    },
    {
      "cell_type": "code",
      "metadata": {
        "id": "ehnJWYHdpcA5",
        "colab": {
          "base_uri": "https://localhost:8080/",
          "height": 573
        },
        "outputId": "edaab2e6-2008-4265-f3cc-fa9d6dcb09da"
      },
      "source": [
        "plot_loss_curve(mobilenet_loss_record, title='HybridViT')\n",
        "plot_acc_curve(mobilenet_acc_record, title='HybridViT')"
      ],
      "execution_count": null,
      "outputs": [
        {
          "output_type": "display_data",
          "data": {
            "image/png": "[encoded data removed]",
            "text/plain": [
              "<Figure size 432x288 with 1 Axes>"
            ]
          },
          "metadata": {
            "tags": [],
            "needs_background": "light"
          }
        },
        {
          "output_type": "display_data",
          "data": {
            "image/png": "[encoded data removed]",
            "text/plain": [
              "<Figure size 432x288 with 1 Axes>"
            ]
          },
          "metadata": {
            "tags": [],
            "needs_background": "light"
          }
        }
      ]
    },
    {
      "cell_type": "code",
      "metadata": {
        "id": "z3Q6Hd7ZpcA5",
        "colab": {
          "base_uri": "https://localhost:8080/",
          "height": 128
        },
        "outputId": "7328f903-49d1-4658-9a89-65600503590f"
      },
      "source": [
        "test(mobileNet,'MobileNet_v2', test_loader)"
      ],
      "execution_count": null,
      "outputs": [
        {
          "output_type": "error",
          "ename": "SyntaxError",
          "evalue": "ignored",
          "traceback": [
            "\u001b[0;36m  File \u001b[0;32m\"<ipython-input-34-dd36241d7aa9>\"\u001b[0;36m, line \u001b[0;32m1\u001b[0m\n\u001b[0;31m    test(mobileNet, ,'MobileNet_v2', test_loader)\u001b[0m\n\u001b[0m                    ^\u001b[0m\n\u001b[0;31mSyntaxError\u001b[0m\u001b[0;31m:\u001b[0m invalid syntax\n"
          ]
        }
      ]
    },
    {
      "cell_type": "markdown",
      "metadata": {
        "id": "La34D3xCpcA5"
      },
      "source": [
        "comparison"
      ]
    },
    {
      "cell_type": "code",
      "metadata": {
        "id": "9_JiN1g1pcA6"
      },
      "source": [
        "def loss_comparison_of_two(record1, record2, model_name_1, model_name_2):\n",
        "    total_steps = len(record1['train'])\n",
        "    x_1 = range(total_steps)\n",
        "    x_2=range(len(record2['train']))\n",
        "    plt.figure(figsize=[6, 4])\n",
        "    plt.plot(x_1, record1['train'], c='tab:red', label=model_name_1+'\\'s train')\n",
        "    plt.plot(x_1, record1['validation'], c='tab:pink', label=model_name_1+'\\'s validation')\n",
        "    plt.plot(x_2, record2['train'], c='tab:blue', label=model_name_2+'\\'s train')\n",
        "    plt.plot(x_2, record2['validation'], c='tab:cyan', label=model_name_2+'\\'s validation')\n",
        "    plt.ylim(0,5)\n",
        "    plt.xlabel('epoches')\n",
        "    plt.ylabel('crossEntropy loss')\n",
        "    plt.title('Loss comparison of %s and %s' % (model_name_1, model_name_2))\n",
        "    plt.legend()\n",
        "    plt.show()\n",
        "\n",
        "def acc_comparison_of_two(record1, record2, model_name_1, model_name_2):\n",
        "    total_steps = len(record1['train'])\n",
        "    x_1 = range(total_steps)\n",
        "    x_2=range(len(record2['train']))\n",
        "    plt.figure(figsize=[6, 4])\n",
        "    plt.plot(x_1, record1['train'], c='tab:red', label=model_name_1+'\\'s train')\n",
        "    plt.plot(x_1, record1['validation'], c='tab:pink', label=model_name_1+'\\'s validation')\n",
        "    plt.plot(x_2, record2['train'], c='tab:blue', label=model_name_2+'\\'s train')\n",
        "    plt.plot(x_2, record2['validation'], c='tab:cyan', label=model_name_2+'\\'s validation')\n",
        "    plt.ylim(0,1)\n",
        "    plt.xlabel('epoches')\n",
        "    plt.ylabel('accuracy')\n",
        "    plt.title('accuracy comparison of %s and %s' % (model_name_1, model_name_2))\n",
        "    plt.legend()\n",
        "    plt.show()"
      ],
      "execution_count": null,
      "outputs": []
    },
    {
      "cell_type": "code",
      "metadata": {
        "id": "Js1tAzZJpcA6",
        "colab": {
          "base_uri": "https://localhost:8080/",
          "height": 573
        },
        "outputId": "6315fb68-aa05-442e-d7fe-312fb4a73577"
      },
      "source": [
        "loss_comparison_of_two(loss_record, mobilenet_loss_record, 'HybridViT', 'MobileNet_v2')\n",
        "acc_comparison_of_two(acc_record, mobilenet_acc_record, 'HybridViT', 'MobileNet_v2')"
      ],
      "execution_count": null,
      "outputs": [
        {
          "output_type": "display_data",
          "data": {
            "image/png": "[encoded data removed]",
            "text/plain": [
              "<Figure size 432x288 with 1 Axes>"
            ]
          },
          "metadata": {
            "tags": [],
            "needs_background": "light"
          }
        },
        {
          "output_type": "display_data",
          "data": {
            "image/png": "[encoded data removed]",
            "text/plain": [
              "<Figure size 432x288 with 1 Axes>"
            ]
          },
          "metadata": {
            "tags": [],
            "needs_background": "light"
          }
        }
      ]
    },
    {
      "cell_type": "code",
      "metadata": {
        "id": "N83WzkMCpcA6"
      },
      "source": [
        "PATH = './mobilenet.pth'\n",
        "torch.save(mobilenet.state_dict(), PATH)"
      ],
      "execution_count": null,
      "outputs": []
    },
    {
      "cell_type": "markdown",
      "metadata": {
        "id": "SOuDhA7UpcA6"
      },
      "source": [
        "## 3. experiment 2: model with similar FLOPs"
      ]
    },
    {
      "cell_type": "code",
      "metadata": {
        "id": "CSw_mb4YpcA7"
      },
      "source": [
        "resnet = resnet101(num_classes=10)"
      ],
      "execution_count": null,
      "outputs": []
    },
    {
      "cell_type": "code",
      "metadata": {
        "id": "FxZrXMTvpcA7",
        "colab": {
          "base_uri": "https://localhost:8080/"
        },
        "outputId": "e13bd4d4-d475-43c8-b4fa-332b4e2e590c"
      },
      "source": [
        "macs, params = get_model_complexity_info(resnet, (3, 32, 32), as_strings=True,\n",
        "                                        print_per_layer_stat=False, verbose=True)\n",
        "print('{:<30}  {:<8}'.format('Computational complexity: ', macs))\n",
        "print('{:<30}  {:<8}'.format('Number of parameters: ', params))"
      ],
      "execution_count": null,
      "outputs": [
        {
          "output_type": "stream",
          "text": [
            "Warning: module Bottleneck is treated as a zero-op.\n",
            "Warning: module ResNet is treated as a zero-op.\n",
            "Computational complexity:       0.16 GMac\n",
            "Number of parameters:           42.52 M \n"
          ],
          "name": "stdout"
        }
      ]
    },
    {
      "cell_type": "code",
      "metadata": {
        "id": "yI-8ne5FpcA7"
      },
      "source": [
        "resnet_loss_record = {'train': [], 'validation': []} \n",
        "resnet_acc_record = {'train': [], 'validation': []} "
      ],
      "execution_count": null,
      "outputs": []
    },
    {
      "cell_type": "code",
      "metadata": {
        "id": "ny7KIaYopcA7"
      },
      "source": [
        "resnet_opt = torch.optim.Adam(resnet.parameters(), lr=lr)\n",
        "resnet_epochs=epochs"
      ],
      "execution_count": null,
      "outputs": []
    },
    {
      "cell_type": "code",
      "metadata": {
        "id": "ZJKc1S_vpcA7"
      },
      "source": [
        "train(resnet_epochs, resnet, train_loader, valid_loader, resnet_loss_record, resnet_acc_record, criterion, resnet_opt)"
      ],
      "execution_count": null,
      "outputs": []
    },
    {
      "cell_type": "code",
      "metadata": {
        "id": "Rqam9GzHpcA8"
      },
      "source": [
        "test(resnet, 'ResNet152',test_loader)"
      ],
      "execution_count": null,
      "outputs": []
    },
    {
      "cell_type": "code",
      "metadata": {
        "id": "SXv3jZmopcA8"
      },
      "source": [
        "loss_comparison_of_two(loss_record, resnet_loss_record)\n",
        "acc_comparison_of_two(acc_record, resnet_acc_record)"
      ],
      "execution_count": null,
      "outputs": []
    },
    {
      "cell_type": "code",
      "metadata": {
        "id": "49MB1QAmpcA8"
      },
      "source": [
        "def loss_comparison_of_three(record1, record2, record3, model_name_1, model_name_2, model_name_3):\n",
        "    total_steps = len(record1['train'])\n",
        "    x_1 = range(total_steps)\n",
        "    x_2=range(len(record2['train']))\n",
        "    x_3=range(len(record3['train']))\n",
        "\n",
        "    plt.figure(figsize=[6, 4])\n",
        "    plt.plot(x_1, record1['train'], c='tab:red', label=model_name_1+'\\'s train')\n",
        "    plt.plot(x_1, record1['validation'], c='tab:pink', label=model_name_1+'\\'s validation')\n",
        "    plt.plot(x_2, record2['train'], c='tab:blue', label=model_name_2+'\\'s train')\n",
        "    plt.plot(x_2, record2['validation'], c='tab:cyan', label=model_name_2+'\\'s validation')\n",
        "    plt.plot(x_3, record3['train'], c='tab:green', label=model_name_3+'\\'s train')\n",
        "    plt.plot(x_3, record3['validation'], c='tab:yellow', label=model_name_3+'\\'s validation')\n",
        "    plt.ylim(0.5,1.5)\n",
        "    plt.xlabel('epoches')\n",
        "    plt.ylabel('crossEntropy loss')\n",
        "    plt.title('Loss curve of {}'.format(title))\n",
        "    plt.legend()\n",
        "    plt.show()\n",
        "\n",
        "def acc_comparison_of_three(record1, record2, record3, model_name_1, model_name_2, model_name_3):\n",
        "    total_steps = len(record1['train'])\n",
        "    x_1 = range(total_steps)\n",
        "    x_2=range(len(record2['train']))\n",
        "    x_3=range(len(record3['train']))\n",
        "    plt.figure(figsize=[6, 4])\n",
        "    plt.plot(x_1, record1['train'], c='tab:red', label=model_name_1+'\\'s train')\n",
        "    plt.plot(x_1, record1['validation'], c='tab:pink', label=model_name_1+'\\'s validation')\n",
        "    plt.plot(x_2, record2['train'], c='tab:blue', label=model_name_2+'\\'s train')\n",
        "    plt.plot(x_2, record2['validation'], c='tab:cyan', label=model_name_2+'\\'s validation')\n",
        "    plt.plot(x_3, record3['train'], c='tab:green', label=model_name_3+'\\'s train')\n",
        "    plt.plot(x_3, record3['validation'], c='tab:yellow', label=model_name_3+'\\'s validation')\n",
        "    plt.ylim(0.5,1.5)\n",
        "    plt.xlabel('epoches')\n",
        "    plt.ylabel('accuracy')\n",
        "    plt.title('acc curve of {}'.format(title))\n",
        "    plt.legend()\n",
        "    plt.show()"
      ],
      "execution_count": null,
      "outputs": []
    },
    {
      "cell_type": "code",
      "metadata": {
        "id": "UKb1Mx8VpcA8"
      },
      "source": [
        "loss_comparison_of_three(loss_record, mobilenet_loss_record, resnet_loss_record,'HybridViT','MobileNet_v2','ResNet152')"
      ],
      "execution_count": null,
      "outputs": []
    },
    {
      "cell_type": "code",
      "metadata": {
        "id": "q0vMzpKCpcA8"
      },
      "source": [
        "acc_comparison_of_three(acc_record, mobilenet_acc_record, resnet_acc_record,'HybridViT','MobileNet_v2','ResNet152')"
      ],
      "execution_count": null,
      "outputs": []
    },
    {
      "cell_type": "code",
      "metadata": {
        "id": "OFewjaVWpcA9"
      },
      "source": [
        "PATH = './resnet.pth'\n",
        "torch.save(resnet.state_dict(), PATH)"
      ],
      "execution_count": null,
      "outputs": []
    },
    {
      "cell_type": "markdown",
      "metadata": {
        "id": "FZjeZYYppcA9"
      },
      "source": [
        "## 4. experiment 3. model robust"
      ]
    },
    {
      "cell_type": "code",
      "metadata": {
        "id": "xNnLngtspcA9"
      },
      "source": [
        "adv_epochs=50\n",
        "adv_mobilenet_epochs=50\n",
        "adv_resnet_epochs=50"
      ],
      "execution_count": null,
      "outputs": []
    },
    {
      "cell_type": "code",
      "metadata": {
        "id": "CxL7zwe5pcA9"
      },
      "source": [
        "adv_loss_record={'train': [], 'validation': []} \n",
        "adv_acc_record={'train': [], 'validation': []} \n",
        "adv_mobilenet_loss_record={'train': [], 'validation': []} \n",
        "adv_mobilenet_acc_record={'train': [], 'validation': []} \n",
        "adv_resnet_loss_record={'train': [], 'validation': []} \n",
        "adv_resnet_acc_record={'train': [], 'validation': []} "
      ],
      "execution_count": null,
      "outputs": []
    },
    {
      "cell_type": "code",
      "metadata": {
        "id": "ST64iUEBpcA9"
      },
      "source": [
        "train(adv_epochs, model, train_loader, valid_loader, adv_loss_record, adv_acc_record, criterion, optimizer, adv_train=True)\n",
        "train(adv_mobilenet_epochs, mobilenet, train_loader, valid_loader, adv_mobilenet_loss_record, adv_mobilenet_acc_record, criterion, mobilenet_optimizer,adv_train=True)\n",
        "train(adv_resnet_epochs, resnet, train_loader, valid_loader, adv_resnet_loss_record, adv_resnet_acc_record, criterion, resnet_optimizer,adv_train=True)"
      ],
      "execution_count": null,
      "outputs": []
    },
    {
      "cell_type": "code",
      "metadata": {
        "id": "y1S7bminpcA-"
      },
      "source": [
        "loss_comparison_of_three(adv_loss_record, adv_mobilenet_loss_record, adv_resnet_loss_record,'HybridViT','MobileNet_v2','ResNet152')"
      ],
      "execution_count": null,
      "outputs": []
    },
    {
      "cell_type": "code",
      "metadata": {
        "id": "phKnvGXypcA-"
      },
      "source": [
        "acc_comparison_of_three(adv_acc_record, adv_mobilenet_acc_record, adv_resnet_acc_record,'HybridViT','MobileNet_v2','ResNet152')"
      ],
      "execution_count": null,
      "outputs": []
    },
    {
      "cell_type": "code",
      "metadata": {
        "id": "FVSVLEbCpcA-"
      },
      "source": [
        "test(model, 'robust HybridViT', test_loader)\n",
        "test(mobileNet, ,'robust MobileNet_v2', test_loader)\n",
        "test(resnet, 'ResNet152', test_loader)"
      ],
      "execution_count": null,
      "outputs": []
    },
    {
      "cell_type": "code",
      "metadata": {
        "id": "FuOZkvXNpcA-"
      },
      "source": [
        "PATH = './adv_HybridViT.pth'\n",
        "torch.save(model.state_dict(), PATH)\n",
        "PATH = './adv_Mobilenet.pth'\n",
        "torch.save(mobilenet.state_dict(), PATH)\n",
        "PATH = './adv_resnet.pth'\n",
        "torch.save(resnet.state_dict(), PATH)"
      ],
      "execution_count": null,
      "outputs": []
    }
  ]
}